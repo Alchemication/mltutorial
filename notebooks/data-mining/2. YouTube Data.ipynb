{
 "metadata": {
  "name": "",
  "signature": "sha256:79c36b5f1262e7a0db48ccbab346afbe2f3e99bcc9dff35a260a4627b7b0f262"
 },
 "nbformat": 3,
 "nbformat_minor": 0,
 "worksheets": [
  {
   "cells": [
    {
     "cell_type": "heading",
     "level": 1,
     "metadata": {},
     "source": [
      "Tutorial Brief"
     ]
    },
    {
     "cell_type": "markdown",
     "metadata": {},
     "source": [
      "We will cover some functions from YouTube Data API v3 from Google Developer Console.\n",
      "\n",
      "**Important Links**:\n",
      "\n",
      "- [Google Developer Console](https://console.developers.google.com)\n",
      "- [YouTube Data API v3 Documentation](https://developers.google.com/youtube/v3/)\n",
      "\n",
      "**We will use the following function**:\n",
      "\n",
      "- youtube.search.list [Doc](https://developers.google.com/youtube/v3/docs/search/list)\n",
      "- youtube.videos.list [Doc](https://developers.google.com/youtube/v3/docs/videos/list)\n",
      "\n",
      "**Video Tutorial**:\n",
      "\n",
      "http://www.youtube.com"
     ]
    },
    {
     "cell_type": "heading",
     "level": 1,
     "metadata": {},
     "source": [
      "Google APIs"
     ]
    },
    {
     "cell_type": "markdown",
     "metadata": {},
     "source": [
      "There is a Python Google Library. But we will be using HTTP requests to access the API."
     ]
    },
    {
     "cell_type": "code",
     "collapsed": false,
     "input": [
      "api_key = \"\""
     ],
     "language": "python",
     "metadata": {},
     "outputs": [],
     "prompt_number": 1
    },
    {
     "cell_type": "heading",
     "level": 2,
     "metadata": {},
     "source": [
      "Import Libraries"
     ]
    },
    {
     "cell_type": "code",
     "collapsed": false,
     "input": [
      "from __future__ import division\n",
      "from datetime import datetime \n",
      "import requests\n",
      "from lxml import html, etree\n",
      "import json\n",
      "from textblob import TextBlob\n",
      "\n",
      "import pandas as pd\n",
      "\n",
      "import matplotlib.pyplot as plt\n",
      "\n",
      "import warnings\n",
      "warnings.filterwarnings('ignore')\n",
      "\n",
      "pd.options.display.max_columns = 100\n",
      "pd.options.display.max_rows = 20\n",
      "pd.options.display.width = 120"
     ],
     "language": "python",
     "metadata": {},
     "outputs": [],
     "prompt_number": 2
    },
    {
     "cell_type": "heading",
     "level": 2,
     "metadata": {},
     "source": [
      "Searching YouTube Using `youtube.search.list`"
     ]
    },
    {
     "cell_type": "markdown",
     "metadata": {},
     "source": [
      "### Documentation:\n",
      "\n",
      "https://developers.google.com/youtube/v3/docs/search\n",
      "\n",
      "### HTTPS Request:\n",
      "\n",
      "```\n",
      "GET https://www.googleapis.com/youtube/v3/search\n",
      "```\n",
      "\n",
      "### Parameters:\n",
      "\n",
      "<table class=\"matchpre\">\n",
      "  <thead>\n",
      "    <tr>\n",
      "      <th>Parameter name</th>\n",
      "      <th>Value</th>\n",
      "      <th>Description</th>\n",
      "    </tr>\n",
      "  </thead>\n",
      "  <tbody>\n",
      "        <tr id=\"required-parameters\" class=\"alt\">\n",
      "      <td colspan=\"3\"><b>Required parameters</b></td>\n",
      "    </tr>\n",
      "    <tr id=\"part\">\n",
      "      <td><code itemprop=\"property\">part</code></td>\n",
      "      <td><code class=\"apitype\">string</code></td>\n",
      "      <td>The <code><strong>part</strong></code> parameter specifies a comma-separated list of one or more <code>search</code> resource properties that the API response will include. Set the parameter value to <code>snippet</code>. The <code>snippet</code> part has a quota cost of 1 unit.\n",
      "</td>\n",
      "    </tr>\n",
      "    <tr id=\"filter-parameters\" class=\"alt\">\n",
      "      <td colspan=\"3\"><b>Filters <span style=\"color:#555\">(specify 0 or 1 of the following parameters)</span></b></td>\n",
      "    </tr>\n",
      "    <tr id=\"forContentOwner\">\n",
      "      <td><code itemprop=\"property\">forContentOwner</code></td>\n",
      "      <td><code class=\"apitype\">boolean</code></td>\n",
      "      <td>This parameter can only be used in a properly <a href=\"/youtube/v3/guides/authentication\">authorized request</a>. <strong>Note:</strong> This parameter is intended exclusively for YouTube content partners.<br><br>The <code><strong>forContentOwner</strong></code> parameter restricts the search to only retrieve resources owned by the content owner specified by the <code><strong>onBehalfOfContentOwner</strong></code> parameter. The user must be authenticated using a CMS account linked to the specified content owner and <code><strong>onBehalfOfContentOwner</strong></code> must be provided.</td>\n",
      "    </tr>\n",
      "    <tr id=\"forMine\">\n",
      "      <td><code itemprop=\"property\">forMine</code></td>\n",
      "      <td><code class=\"apitype\">boolean</code></td>\n",
      "      <td>This parameter can only be used in a properly <a href=\"/youtube/v3/guides/authentication\">authorized request</a>. The <code><strong>forMine</strong></code> parameter restricts the search to only retrieve videos owned by the authenticated user. If you set this parameter to <code>true</code>, then the <code>type</code> parameter's value must also be set to <code>video</code>.</td>\n",
      "    </tr>\n",
      "    <tr id=\"relatedToVideoId\">\n",
      "      <td><code itemprop=\"property\">relatedToVideoId</code></td>\n",
      "      <td><code class=\"apitype\">string</code></td>\n",
      "      <td>The <code><strong>relatedToVideoId</strong></code> parameter retrieves a list of videos that are related to the video that the parameter value identifies. The parameter value must be set to a YouTube video ID and, if you are using this parameter, the <code>type</code> parameter must be set to <code>video</code>.</td>\n",
      "    </tr>\n",
      "    <tr id=\"optional-parameters\" class=\"alt\">\n",
      "      <td colspan=\"3\"><b>Optional parameters</b></td>\n",
      "    </tr>\n",
      "    <tr id=\"channelId\">\n",
      "      <td><code itemprop=\"property\">channelId</code></td>\n",
      "      <td><code class=\"apitype\">string</code></td>\n",
      "      <td>The <code><strong>channelId</strong></code> parameter indicates that the API response should only contain resources created by the channel</td>\n",
      "    </tr>\n",
      "    <tr id=\"channelType\">\n",
      "      <td><code itemprop=\"property\">channelType</code></td>\n",
      "      <td><code class=\"apitype\">string</code></td>\n",
      "      <td>The <code><strong>channelType</strong></code> parameter lets you restrict a search to a particular type of channel.<br><br>Acceptable values are:\n",
      "<ul>\n",
      "<li><code><strong>any</strong></code> \u2013 Return all channels.</li>\n",
      "<li><code><strong>show</strong></code> \u2013 Only retrieve shows.</li>\n",
      "</ul>\n",
      "</td>\n",
      "    </tr>\n",
      "    <tr id=\"eventType\">\n",
      "      <td><code itemprop=\"property\">eventType</code></td>\n",
      "      <td><code class=\"apitype\">string</code></td>\n",
      "      <td>The <code><strong>eventType</strong></code> parameter restricts a search to broadcast events. If you specify a value for this parameter, you must also set the <code><a href=\"#type\">type</a></code> parameter's value to <code>video</code>.<br><br>Acceptable values are:\n",
      "<ul>\n",
      "<li><code><strong>completed</strong></code> \u2013 Only include completed broadcasts.</li>\n",
      "<li><code><strong>live</strong></code> \u2013 Only include active broadcasts.</li>\n",
      "<li><code><strong>upcoming</strong></code> \u2013 Only include upcoming broadcasts.</li>\n",
      "</ul>\n",
      "</td>\n",
      "    </tr>\n",
      "    <tr id=\"location\">\n",
      "      <td><code itemprop=\"property\">location</code></td>\n",
      "      <td><code class=\"apitype\">string</code></td>\n",
      "      <td>The <code><strong>location</strong></code> parameter, in conjunction with the <code>locationRadius</code> parameter, defines a circular geographic area and also restricts a search to videos that specify, in their metadata, a geographic location that falls within that area. The parameter value is a string that specifies latitude/longitude coordinates e.g. (<code>37.42307,-122.08427</code>).<br><br><ul><li>The <code>location</code> parameter value identifies the point at the center of the area.</li><li>The <code>locationRadius</code> parameter specifies the maximum distance that the location associated with a video can be from that point for the video to still be included in the search results.</li></ul>The API returns an error if your request specifies a value for the <code>location</code> parameter but does not also specify a value for the <code>locationRadius</code> parameter.</td>\n",
      "    </tr>\n",
      "    <tr id=\"locationRadius\">\n",
      "      <td><code itemprop=\"property\">locationRadius</code></td>\n",
      "      <td><code class=\"apitype\">string</code></td>\n",
      "      <td>The <code><strong>locationRadius</strong></code> parameter, in conjunction with the <code>location</code> parameter, defines a circular geographic area.<br><br>The parameter value must be a floating point number followed by a measurement unit. Valid measurement units are <code>m</code>, <code>km</code>, <code>ft</code>, and <code>mi</code>. For example, valid parameter values include <code>1500m</code>, <code>5km</code>, <code>10000ft</code>, and <code>0.75mi</code>. The API does not support <code>locationRadius</code> parameter values larger than 1000 kilometers.<br><br><strong>Note:</strong> See the definition of the <code><a href=\"#location\">location</a></code> parameter for more information.</td>\n",
      "    </tr>\n",
      "    <tr id=\"maxResults\">\n",
      "      <td><code itemprop=\"property\">maxResults</code></td>\n",
      "      <td><code class=\"apitype\">unsigned integer</code></td>\n",
      "      <td>The <code><strong>maxResults</strong></code> parameter specifies the maximum number of items that should be returned in the result set. Acceptable values are <code>0</code> to <code>50</code>, inclusive. The default value is <code>5</code>.</td>\n",
      "    </tr>\n",
      "    <tr id=\"onBehalfOfContentOwner\">\n",
      "      <td><code itemprop=\"property\">onBehalfOfContentOwner</code></td>\n",
      "      <td><code class=\"apitype\">string</code></td>\n",
      "      <td>This parameter can only be used in a properly <a href=\"/youtube/v3/guides/authentication\">authorized request</a>. <strong>Note:</strong> This parameter is intended exclusively for YouTube content partners.<br><br>The <code><strong>onBehalfOfContentOwner</strong></code> parameter indicates that the request's authorization credentials identify a YouTube CMS user who is acting on behalf of the content owner specified in the parameter value. This parameter is intended for YouTube content partners that own and manage many different YouTube channels. It allows content owners to authenticate once and get access to all their video and channel data, without having to provide authentication credentials for each individual channel. The CMS account that the user authenticates with must be linked to the specified YouTube content owner.</td>\n",
      "    </tr>\n",
      "    <tr id=\"order\">\n",
      "      <td><code itemprop=\"property\">order</code></td>\n",
      "      <td><code class=\"apitype\">string</code></td>\n",
      "      <td>The <code><strong>order</strong></code> parameter specifies the method that will be used to order resources in the API response. The default value is <code>relevance</code>.<br><br>Acceptable values are:\n",
      "<ul>\n",
      "<li><code><strong>date</strong></code> \u2013 Resources are sorted in reverse chronological order based on the date they were created.</li>\n",
      "<li><code><strong>rating</strong></code> \u2013 Resources are sorted from highest to lowest rating.</li>\n",
      "<li><code><strong>relevance</strong></code> \u2013 Resources are sorted based on their relevance to the search query. This is the default value for this parameter.</li>\n",
      "<li><code><strong>title</strong></code> \u2013 Resources are sorted alphabetically by title.</li>\n",
      "<li><code><strong>videoCount</strong></code> \u2013 Channels are sorted in descending order of their number of uploaded videos.</li>\n",
      "<li><code><strong>viewCount</strong></code> \u2013 Resources are sorted from highest to lowest number of views.</li>\n",
      "</ul>\n",
      "</td>\n",
      "    </tr>\n",
      "    <tr id=\"pageToken\">\n",
      "      <td><code itemprop=\"property\">pageToken</code></td>\n",
      "      <td><code class=\"apitype\">string</code></td>\n",
      "      <td>The <code><strong>pageToken</strong></code> parameter identifies a specific page in the result set that should be returned. In an API response, the <code>nextPageToken</code> and <code>prevPageToken</code> properties identify other pages that could be retrieved.</td>\n",
      "    </tr>\n",
      "    <tr id=\"publishedAfter\">\n",
      "      <td><code itemprop=\"property\">publishedAfter</code></td>\n",
      "      <td><code class=\"apitype\">datetime</code></td>\n",
      "      <td>The <code><strong>publishedAfter</strong></code> parameter indicates that the API response should only contain resources created after the specified time. The value is an RFC 3339 formatted date-time value (1970-01-01T00:00:00Z).</td>\n",
      "    </tr>\n",
      "    <tr id=\"publishedBefore\">\n",
      "      <td><code itemprop=\"property\">publishedBefore</code></td>\n",
      "      <td><code class=\"apitype\">datetime</code></td>\n",
      "      <td>The <code><strong>publishedBefore</strong></code> parameter indicates that the API response should only contain resources created before the specified time. The value is an RFC 3339 formatted date-time value (1970-01-01T00:00:00Z).</td>\n",
      "    </tr>\n",
      "    <tr id=\"q\">\n",
      "      <td><code itemprop=\"property\">q</code></td>\n",
      "      <td><code class=\"apitype\">string</code></td>\n",
      "      <td>The <code><strong>q</strong></code> parameter specifies the query term to search for.<br><br>Your request can also use the Boolean NOT (<code>-</code>) and OR (<code>|</code>) operators to exclude videos or to find videos that are associated with one of several search terms. For example, to search for videos matching either \"boating\" or \"sailing\", set the <code>q</code> parameter value to <code>boating|sailing</code>. Similarly, to search for videos matching either \"boating\" or \"sailing\" but not \"fishing\", set the <code>q</code> parameter value to <code>boating|sailing -fishing</code>. Note that the pipe character must be URL-escaped when it is sent in your API request. The URL-escaped value for the pipe character is <code>%7C</code>.</td>\n",
      "    </tr>\n",
      "    <tr id=\"regionCode\">\n",
      "      <td><code itemprop=\"property\">regionCode</code></td>\n",
      "      <td><code class=\"apitype\">string</code></td>\n",
      "      <td>The <code><strong>regionCode</strong></code> parameter instructs the API to return search results for the specified country. The parameter value is an <a href=\"http://www.iso.org/iso/country_codes/iso_3166_code_lists/country_names_and_code_elements.htm\">ISO 3166-1 alpha-2</a> country code.</td>\n",
      "    </tr>\n",
      "    <tr id=\"safeSearch\">\n",
      "      <td><code itemprop=\"property\">safeSearch</code></td>\n",
      "      <td><code class=\"apitype\">string</code></td>\n",
      "      <td>The <code><strong>safeSearch</strong></code> parameter indicates whether the search results should include restricted content as well as standard content.<br><br>Acceptable values are:\n",
      "<ul>\n",
      "<li><code><strong>moderate</strong></code> \u2013 YouTube will filter some content from search results and, at the least, will filter content that is restricted in your locale. Based on their content, search results could be removed from search results or demoted in search results. This is the default parameter value.</li>\n",
      "<li><code><strong>none</strong></code> \u2013 YouTube will not filter the search result set.</li>\n",
      "<li><code><strong>strict</strong></code> \u2013 YouTube will try to exclude all restricted content from the search result set. Based on their content, search results could be removed from search results or demoted in search results.</li>\n",
      "</ul>\n",
      "</td>\n",
      "    </tr>\n",
      "    <tr id=\"topicId\">\n",
      "      <td><code itemprop=\"property\">topicId</code></td>\n",
      "      <td><code class=\"apitype\">string</code></td>\n",
      "      <td>The <code><strong>topicId</strong></code> parameter indicates that the API response should only contain resources associated with the specified topic. The value identifies a <a href=\"//wiki.freebase.com/wiki/Freebase_API\">Freebase topic ID</a>.</td>\n",
      "    </tr>\n",
      "    <tr id=\"type\">\n",
      "      <td><code itemprop=\"property\">type</code></td>\n",
      "      <td><code class=\"apitype\">string</code></td>\n",
      "      <td>The <code><strong>type</strong></code> parameter restricts a search query to only retrieve a particular type of resource. The value is a comma-separated list of resource types. The default value is <code>video,channel,playlist</code>.<br><br>Acceptable values are:\n",
      "<ul>\n",
      "<li><code><strong>channel</strong></code></li><li><code><strong>playlist</strong></code></li><li><code><strong>video</strong></code></li></ul>\n",
      "</td>\n",
      "    </tr>\n",
      "    <tr id=\"videoCaption\">\n",
      "      <td><code itemprop=\"property\">videoCaption</code></td>\n",
      "      <td><code class=\"apitype\">string</code></td>\n",
      "      <td>The <code><strong>videoCaption</strong></code> parameter indicates whether the API should filter video search results based on whether they have captions. If you specify a value for this parameter, you must also set the <code><a href=\"#type\">type</a></code> parameter's value to <code>video</code>.<br><br>Acceptable values are:\n",
      "<ul>\n",
      "<li><code><strong>any</strong></code> \u2013 Do not filter results based on caption availability.</li>\n",
      "<li><code><strong>closedCaption</strong></code> \u2013 Only include videos that have captions.</li>\n",
      "<li><code><strong>none</strong></code> \u2013 Only include videos that do not have captions.</li>\n",
      "</ul>\n",
      "</td>\n",
      "    </tr>\n",
      "    <tr id=\"videoCategoryId\">\n",
      "      <td><code itemprop=\"property\">videoCategoryId</code></td>\n",
      "      <td><code class=\"apitype\">string</code></td>\n",
      "      <td>The <code><strong>videoCategoryId</strong></code> parameter filters video search results based on their <a href=\"/youtube/v3/docs/videoCategories\">category</a>. If you specify a value for this parameter, you must also set the <code><a href=\"#type\">type</a></code> parameter's value to <code>video</code>.</td>\n",
      "    </tr>\n",
      "    <tr id=\"videoDefinition\">\n",
      "      <td><code itemprop=\"property\">videoDefinition</code></td>\n",
      "      <td><code class=\"apitype\">string</code></td>\n",
      "      <td>The <code><strong>videoDefinition</strong></code> parameter lets you restrict a search to only include either high definition (HD) or standard definition (SD) videos. HD videos are available for playback in at least 720p, though higher resolutions, like 1080p, might also be available. If you specify a value for this parameter, you must also set the <code><a href=\"#type\">type</a></code> parameter's value to <code>video</code>.<br><br>Acceptable values are:\n",
      "<ul>\n",
      "<li><code><strong>any</strong></code> \u2013 Return all videos, regardless of their resolution.</li>\n",
      "<li><code><strong>high</strong></code> \u2013 Only retrieve HD videos.</li>\n",
      "<li><code><strong>standard</strong></code> \u2013 Only retrieve videos in standard definition.</li>\n",
      "</ul>\n",
      "</td>\n",
      "    </tr>\n",
      "    <tr id=\"videoDimension\">\n",
      "      <td><code itemprop=\"property\">videoDimension</code></td>\n",
      "      <td><code class=\"apitype\">string</code></td>\n",
      "      <td>The <code><strong>videoDimension</strong></code> parameter lets you restrict a search to only retrieve 2D or 3D videos. If you specify a value for this parameter, you must also set the <code><a href=\"#type\">type</a></code> parameter's value to <code>video</code>.<br><br>Acceptable values are:\n",
      "<ul>\n",
      "<li><code><strong>2d</strong></code> \u2013 Restrict search results to exclude 3D videos.</li>\n",
      "<li><code><strong>3d</strong></code> \u2013 Restrict search results to only include 3D videos.</li>\n",
      "<li><code><strong>any</strong></code> \u2013 Include both 3D and non-3D videos in returned results. This is the default value.</li>\n",
      "</ul>\n",
      "</td>\n",
      "    </tr>\n",
      "    <tr id=\"videoDuration\">\n",
      "      <td><code itemprop=\"property\">videoDuration</code></td>\n",
      "      <td><code class=\"apitype\">string</code></td>\n",
      "      <td>The <code><strong>videoDuration</strong></code> parameter filters video search results based on their duration. If you specify a value for this parameter, you must also set the <code><a href=\"#type\">type</a></code> parameter's value to <code>video</code>.<br><br>Acceptable values are:\n",
      "<ul>\n",
      "<li><code><strong>any</strong></code> \u2013 Do not filter video search results based on their duration. This is the default value.</li>\n",
      "<li><code><strong>long</strong></code> \u2013 Only include videos longer than 20 minutes.</li>\n",
      "<li><code><strong>medium</strong></code> \u2013 Only include videos that are between four and 20 minutes long (inclusive).</li>\n",
      "<li><code><strong>short</strong></code> \u2013 Only include videos that are less than four minutes long.</li>\n",
      "</ul>\n",
      "</td>\n",
      "    </tr>\n",
      "    <tr id=\"videoEmbeddable\">\n",
      "      <td><code itemprop=\"property\">videoEmbeddable</code></td>\n",
      "      <td><code class=\"apitype\">string</code></td>\n",
      "      <td>The <code><strong>videoEmbeddable</strong></code> parameter lets you to restrict a search to only videos that can be embedded into a webpage. If you specify a value for this parameter, you must also set the <code><a href=\"#type\">type</a></code> parameter's value to <code>video</code>.<br><br>Acceptable values are:\n",
      "<ul>\n",
      "<li><code><strong>any</strong></code> \u2013 Return all videos, embeddable or not.</li>\n",
      "<li><code><strong>true</strong></code> \u2013 Only retrieve embeddable videos.</li>\n",
      "</ul>\n",
      "</td>\n",
      "    </tr>\n",
      "    <tr id=\"videoLicense\">\n",
      "      <td><code itemprop=\"property\">videoLicense</code></td>\n",
      "      <td><code class=\"apitype\">string</code></td>\n",
      "      <td>The <code><strong>videoLicense</strong></code> parameter filters search results to only include videos with a particular license. YouTube lets video uploaders choose to attach either the Creative Commons license or the standard YouTube license to each of their videos. If you specify a value for this parameter, you must also set the <code><a href=\"#type\">type</a></code> parameter's value to <code>video</code>.<br><br>Acceptable values are:\n",
      "<ul>\n",
      "<li><code><strong>any</strong></code> \u2013 Return all videos, regardless of which license they have, that match the query parameters.</li>\n",
      "<li><code><strong>creativeCommon</strong></code> \u2013 Only return videos that have a Creative Commons license. Users can reuse videos with this license in other videos that they create. <a href=\"http://www.google.com/support/youtube/bin/answer.py?answer=1284989\">Learn more</a>.</li>\n",
      "<li><code><strong>youtube</strong></code> \u2013 Only return videos that have the standard YouTube license.</li>\n",
      "</ul>\n",
      "</td>\n",
      "    </tr>\n",
      "    <tr id=\"videoSyndicated\">\n",
      "      <td><code itemprop=\"property\">videoSyndicated</code></td>\n",
      "      <td><code class=\"apitype\">string</code></td>\n",
      "      <td>The <code><strong>videoSyndicated</strong></code> parameter lets you to restrict a search to only videos that can be played outside youtube.com. If you specify a value for this parameter, you must also set the <code><a href=\"#type\">type</a></code> parameter's value to <code>video</code>.<br><br>Acceptable values are:\n",
      "<ul>\n",
      "<li><code><strong>any</strong></code> \u2013 Return all videos, syndicated or not.</li>\n",
      "<li><code><strong>true</strong></code> \u2013 Only retrieve syndicated videos.</li>\n",
      "</ul>\n",
      "</td>\n",
      "    </tr>\n",
      "    <tr id=\"videoType\">\n",
      "      <td><code itemprop=\"property\">videoType</code></td>\n",
      "      <td><code class=\"apitype\">string</code></td>\n",
      "      <td>The <code><strong>videoType</strong></code> parameter lets you restrict a search to a particular type of videos. If you specify a value for this parameter, you must also set the <code><a href=\"#type\">type</a></code> parameter's value to <code>video</code>.<br><br>Acceptable values are:\n",
      "<ul>\n",
      "<li><code><strong>any</strong></code> \u2013 Return all videos.</li>\n",
      "<li><code><strong>episode</strong></code> \u2013 Only retrieve episodes of shows.</li>\n",
      "<li><code><strong>movie</strong></code> \u2013 Only retrieve movies.</li>\n",
      "</ul>\n",
      "</td>\n",
      "    </tr>\n",
      "\n",
      "  </tbody>\n",
      "</table>"
     ]
    },
    {
     "cell_type": "markdown",
     "metadata": {},
     "source": [
      "### The important parameters:\n",
      "\n",
      "- **`part`**:\n",
      " - `id`: Returns only resource ID data\n",
      " - `snippet`: Returns some basic meta data about the resource\n",
      "\n",
      "- **`channelId`**:\n",
      " - Filter results to a single channelId.\n",
      "\n",
      "- **`maxResults`**:\n",
      " - Between 0 and 50 results per page. The default is 5.\n",
      "\n",
      "- **`order`**:\n",
      " - date: Resources are sorted in reverse chronological order based on the date they were uploaded.\n",
      " - rating: Resources are sorted from highest to lowest rating.\n",
      " - **relevance**: Resources are sorted based on their relevance to the search query. This is the default value for this parameter.\n",
      " - title: Resources are sorted alphabetically by title.\n",
      " - videoCount: Channels are sorted in descending order of their number of uploaded videos.\n",
      " - viewCount: Resources are sorted from highest to lowest number of views.\n",
      "\n",
      "- **`pageToken`**:\n",
      " - A string token to select results page\n",
      "\n",
      "- **`publishedAfter`**:\n",
      " - Use RFC 3339 format for Date Time 2000-12-31T23:59:59\n",
      "\n",
      "- **`publishedBefore`**:\n",
      " - Use RFC 3339 format for Date Time 2000-12-31T23:59:59\n",
      "\n",
      "- **`q`**:\n",
      " - Query term(s)\n",
      " - You can use multiple search terms\n",
      " - For OR operator use `|`\n",
      " - For NOT operator use `-`\n",
      "\n",
      "- **`key`**:\n",
      " - You API Key code"
     ]
    },
    {
     "cell_type": "heading",
     "level": 2,
     "metadata": {},
     "source": [
      "Preparing The HTTP Request"
     ]
    },
    {
     "cell_type": "code",
     "collapsed": false,
     "input": [
      "parameters = {\"part\": \"snippet\",\n",
      "              \"maxResults\": 5,\n",
      "              \"order\": \"date\",\n",
      "              \"pageToken\": \"\",\n",
      "              \"publishedAfter\": \"2008-08-04T00:00:00Z\",\n",
      "              \"publishedBefore\": \"2008-11-04T00:00:00Z\",\n",
      "              \"q\": \"\",\n",
      "              \"key\": api_key,\n",
      "              \"type\": \"video\",\n",
      "              }\n",
      "url = \"https://www.googleapis.com/youtube/v3/search\""
     ],
     "language": "python",
     "metadata": {},
     "outputs": [],
     "prompt_number": 3
    },
    {
     "cell_type": "heading",
     "level": 2,
     "metadata": {},
     "source": [
      "Fetch Results for a Single Page"
     ]
    },
    {
     "cell_type": "code",
     "collapsed": false,
     "input": [
      "parameters[\"q\"] = \"Mark Udall\"\n",
      "page = requests.request(method=\"get\", url=url, params=parameters)\n",
      "j_results = json.loads(page.text)\n",
      "print page.text"
     ],
     "language": "python",
     "metadata": {},
     "outputs": [
      {
       "output_type": "stream",
       "stream": "stdout",
       "text": [
        "{\n",
        " \"kind\": \"youtube#searchListResponse\",\n",
        " \"etag\": \"\\\"PSjn-HSKiX6orvNhGZvglLI2lvk/_2hFMhP6zvFl7CAy5D9Ir40dMWE\\\"\",\n",
        " \"nextPageToken\": \"CAUQAA\",\n",
        " \"pageInfo\": {\n",
        "  \"totalResults\": 2325,\n",
        "  \"resultsPerPage\": 5\n",
        " },\n",
        " \"items\": [\n",
        "  {\n",
        "   \"kind\": \"youtube#searchResult\",\n",
        "   \"etag\": \"\\\"PSjn-HSKiX6orvNhGZvglLI2lvk/tmAMwya2pvXlrX05odd04vzKBSQ\\\"\",\n",
        "   \"id\": {\n",
        "    \"kind\": \"youtube#video\",\n",
        "    \"videoId\": \"5Q98TvXjIZg\"\n",
        "   },\n",
        "   \"snippet\": {\n",
        "    \"publishedAt\": \"2008-11-03T15:31:30.000Z\",\n",
        "    \"channelId\": \"UC52X5wxOL_s5yw0dQk7NtgA\",\n",
        "    \"title\": \"Cousins Vying to Ride Democratic Wave to Senate\",\n",
        "    \"description\": \"Cousins Tom and Mark Udall are vying to become U.S. Senators in New Mexico and Colorado. The two are hoping to ride an emerging Democratic wave in the ...\",\n",
        "    \"thumbnails\": {\n",
        "     \"default\": {\n",
        "      \"url\": \"https://i.ytimg.com/vi/5Q98TvXjIZg/default.jpg\"\n",
        "     },\n",
        "     \"medium\": {\n",
        "      \"url\": \"https://i.ytimg.com/vi/5Q98TvXjIZg/mqdefault.jpg\"\n",
        "     },\n",
        "     \"high\": {\n",
        "      \"url\": \"https://i.ytimg.com/vi/5Q98TvXjIZg/hqdefault.jpg\"\n",
        "     }\n",
        "    },\n",
        "    \"channelTitle\": \"AssociatedPress\",\n",
        "    \"liveBroadcastContent\": \"none\"\n",
        "   }\n",
        "  },\n",
        "  {\n",
        "   \"kind\": \"youtube#searchResult\",\n",
        "   \"etag\": \"\\\"PSjn-HSKiX6orvNhGZvglLI2lvk/Pqtrk7f6rZM5jwPLKtXoJ98nNtg\\\"\",\n",
        "   \"id\": {\n",
        "    \"kind\": \"youtube#video\",\n",
        "    \"videoId\": \"nnghUTeSKW0\"\n",
        "   },\n",
        "   \"snippet\": {\n",
        "    \"publishedAt\": \"2008-11-03T00:06:40.000Z\",\n",
        "    \"channelId\": \"UC9ZGcEDoHfuY8lB5_SknuLA\",\n",
        "    \"title\": \"mark udall\",\n",
        "    \"description\": \"gov project.\",\n",
        "    \"thumbnails\": {\n",
        "     \"default\": {\n",
        "      \"url\": \"https://i.ytimg.com/vi/nnghUTeSKW0/default.jpg\"\n",
        "     },\n",
        "     \"medium\": {\n",
        "      \"url\": \"https://i.ytimg.com/vi/nnghUTeSKW0/mqdefault.jpg\"\n",
        "     },\n",
        "     \"high\": {\n",
        "      \"url\": \"https://i.ytimg.com/vi/nnghUTeSKW0/hqdefault.jpg\"\n",
        "     }\n",
        "    },\n",
        "    \"channelTitle\": \"g072091\",\n",
        "    \"liveBroadcastContent\": \"none\"\n",
        "   }\n",
        "  },\n",
        "  {\n",
        "   \"kind\": \"youtube#searchResult\",\n",
        "   \"etag\": \"\\\"PSjn-HSKiX6orvNhGZvglLI2lvk/ay0GP1CevugYOb4FvBtJzXG_A0c\\\"\",\n",
        "   \"id\": {\n",
        "    \"kind\": \"youtube#video\",\n",
        "    \"videoId\": \"Pq-KnAMpDHs\"\n",
        "   },\n",
        "   \"snippet\": {\n",
        "    \"publishedAt\": \"2008-11-01T00:55:26.000Z\",\n",
        "    \"channelId\": \"UC5QhjJAjxtRvJ9ujFxNiJbA\",\n",
        "    \"title\": \"Eden Lane One on One with Congressman Mark Udall\",\n",
        "    \"description\": \"Senate candidate, Congressman Mark Udall spoke with me at a campaign event. Congressional candidate Jared Polis, and State Senate Candidate Joe ...\",\n",
        "    \"thumbnails\": {\n",
        "     \"default\": {\n",
        "      \"url\": \"https://i.ytimg.com/vi/Pq-KnAMpDHs/default.jpg\"\n",
        "     },\n",
        "     \"medium\": {\n",
        "      \"url\": \"https://i.ytimg.com/vi/Pq-KnAMpDHs/mqdefault.jpg\"\n",
        "     },\n",
        "     \"high\": {\n",
        "      \"url\": \"https://i.ytimg.com/vi/Pq-KnAMpDHs/hqdefault.jpg\"\n",
        "     }\n",
        "    },\n",
        "    \"channelTitle\": \"missedenlane\",\n",
        "    \"liveBroadcastContent\": \"none\"\n",
        "   }\n",
        "  },\n",
        "  {\n",
        "   \"kind\": \"youtube#searchResult\",\n",
        "   \"etag\": \"\\\"PSjn-HSKiX6orvNhGZvglLI2lvk/y4ELzTNng5HKENL9FoHgkDV304k\\\"\",\n",
        "   \"id\": {\n",
        "    \"kind\": \"youtube#video\",\n",
        "    \"videoId\": \"aITDlrkKOoY\"\n",
        "   },\n",
        "   \"snippet\": {\n",
        "    \"publishedAt\": \"2008-11-01T00:42:17.000Z\",\n",
        "    \"channelId\": \"UCT3P1V7_N5HzV1vEZUSdNNQ\",\n",
        "    \"title\": \"CO: AFGE, APWU, NALC, and NPMHU leaflet with Mark Udall\",\n",
        "    \"description\": \"APWU, NALC, and NPMHU are out at the worksite when it matters most!\",\n",
        "    \"thumbnails\": {\n",
        "     \"default\": {\n",
        "      \"url\": \"https://i.ytimg.com/vi/aITDlrkKOoY/default.jpg\"\n",
        "     },\n",
        "     \"medium\": {\n",
        "      \"url\": \"https://i.ytimg.com/vi/aITDlrkKOoY/mqdefault.jpg\"\n",
        "     },\n",
        "     \"high\": {\n",
        "      \"url\": \"https://i.ytimg.com/vi/aITDlrkKOoY/hqdefault.jpg\"\n",
        "     }\n",
        "    },\n",
        "    \"channelTitle\": \"shubi10\",\n",
        "    \"liveBroadcastContent\": \"none\"\n",
        "   }\n",
        "  },\n",
        "  {\n",
        "   \"kind\": \"youtube#searchResult\",\n",
        "   \"etag\": \"\\\"PSjn-HSKiX6orvNhGZvglLI2lvk/JgS_14GwklWRyGGiyMW8NbsyiQA\\\"\",\n",
        "   \"id\": {\n",
        "    \"kind\": \"youtube#video\",\n",
        "    \"videoId\": \"JAHI1pSiEPM\"\n",
        "   },\n",
        "   \"snippet\": {\n",
        "    \"publishedAt\": \"2008-10-30T04:43:12.000Z\",\n",
        "    \"channelId\": \"UCxdp8upAlGFfB4jjTH3wAHw\",\n",
        "    \"title\": \"[SEN-CO] Udall: Reason\",\n",
        "    \"description\": \"http://politicalrealm.blogspot.com A new campaign ad from Democrat Mark Udall.\",\n",
        "    \"thumbnails\": {\n",
        "     \"default\": {\n",
        "      \"url\": \"https://i.ytimg.com/vi/JAHI1pSiEPM/default.jpg\"\n",
        "     },\n",
        "     \"medium\": {\n",
        "      \"url\": \"https://i.ytimg.com/vi/JAHI1pSiEPM/mqdefault.jpg\"\n",
        "     },\n",
        "     \"high\": {\n",
        "      \"url\": \"https://i.ytimg.com/vi/JAHI1pSiEPM/hqdefault.jpg\"\n",
        "     }\n",
        "    },\n",
        "    \"channelTitle\": \"PoliticalRealm\",\n",
        "    \"liveBroadcastContent\": \"none\"\n",
        "   }\n",
        "  }\n",
        " ]\n",
        "}\n",
        "\n"
       ]
      }
     ],
     "prompt_number": 4
    },
    {
     "cell_type": "heading",
     "level": 1,
     "metadata": {},
     "source": [
      "YouTube Video Meta Data Using youtube.video.list"
     ]
    },
    {
     "cell_type": "markdown",
     "metadata": {},
     "source": [
      "### Documentation:\n",
      "\n",
      "https://developers.google.com/youtube/v3/docs/videos/list\n",
      "\n",
      "### HTTPS Request:\n",
      "\n",
      "```\n",
      "GET https://www.googleapis.com/youtube/v3/videos\n",
      "```\n",
      "\n",
      "### Parameters:\n",
      "\n",
      "<table class=\"matchpre\">\n",
      "  <thead>\n",
      "    <tr>\n",
      "      <th>Parameter name</th>\n",
      "      <th>Value</th>\n",
      "      <th>Description</th>\n",
      "    </tr>\n",
      "  </thead>\n",
      "  <tbody>\n",
      "        <tr id=\"required-parameters\" class=\"alt\">\n",
      "      <td colspan=\"3\"><b>Required parameters</b></td>\n",
      "    </tr>\n",
      "    <tr id=\"part\">\n",
      "      <td><code itemprop=\"property\">part</code></td>\n",
      "      <td><code class=\"apitype\">string</code></td>\n",
      "      <td>The <code><strong>part</strong></code> parameter specifies a comma-separated list of one or more <code>video</code> resource properties that the API response will include.<br><br>If the parameter identifies a property that contains child properties, the child properties will be included in the response. For example, in a <code>video</code> resource, the <code>snippet</code> property contains the <code>channelId</code>, <code>title</code>, <code>description</code>, <code>tags</code>, and <code>categoryId</code> properties. As such, if you set <code><strong>part=snippet</strong></code>, the API response will contain all of those properties.<br><br>The list below contains the <code>part</code> names that you can include in the parameter value and the <a href=\"/youtube/v3/getting-started#quota\">quota cost</a> for each part:<br><ul>\n",
      "<li><code>contentDetails</code>: 2</li>\n",
      "<li><code>fileDetails</code>: 1</li>\n",
      "<li><code>id</code>: 0</li>\n",
      "<li><code>liveStreamingDetails</code>: 2</li>\n",
      "<li><code>player</code>: 0</li>\n",
      "<li><code>processingDetails</code>: 1</li>\n",
      "<li><code>recordingDetails</code>: 2</li>\n",
      "<li><code>snippet</code>: 2</li>\n",
      "<li><code>statistics</code>: 2</li>\n",
      "<li><code>status</code>: 2</li>\n",
      "<li><code>suggestions</code>: 1</li>\n",
      "<li><code>topicDetails</code>: 2</li>\n",
      "\n",
      "</ul>\n",
      "</td>\n",
      "    </tr>\n",
      "    <tr id=\"filter-parameters\" class=\"alt\">\n",
      "      <td colspan=\"3\"><b>Filters <span style=\"color:#555\">(specify exactly one of the following parameters)</span></b></td>\n",
      "    </tr>\n",
      "    <tr id=\"chart\">\n",
      "      <td><code itemprop=\"property\">chart</code></td>\n",
      "      <td><code class=\"apitype\">string</code></td>\n",
      "      <td>The <code><strong>chart</strong></code> parameter identifies the chart that you want to retrieve.<br><br>Acceptable values are:\n",
      "<ul>\n",
      "<li><code><strong>mostPopular</strong></code> \u2013 Return the most popular videos for the specified <a href=\"#regionCode\">content region</a> and <a href=\"#videoCategoryId\">video category</a>.</li>\n",
      "</ul>\n",
      "</td>\n",
      "    </tr>\n",
      "    <tr id=\"id\">\n",
      "      <td><code itemprop=\"property\">id</code></td>\n",
      "      <td><code class=\"apitype\">string</code></td>\n",
      "      <td>The <code><strong>id</strong></code> parameter specifies a comma-separated list of the YouTube video ID(s) for the resource(s) that are being retrieved. In a <code>video</code> resource, the <code>id</code> property specifies the video's ID.</td>\n",
      "    </tr>\n",
      "    <tr id=\"myRating\">\n",
      "      <td><code itemprop=\"property\">myRating</code></td>\n",
      "      <td><code class=\"apitype\">string</code></td>\n",
      "      <td>This parameter can only be used in a properly <a href=\"/youtube/v3/guides/authentication\">authorized request</a>. Set this parameter's value to <code>like</code> or <code>dislike</code> to instruct the API to only return videos liked or disliked by the authenticated user.<br><br>Acceptable values are:\n",
      "<ul>\n",
      "<li><code><strong>dislike</strong></code> \u2013 Returns only videos disliked by the authenticated user.</li>\n",
      "<li><code><strong>like</strong></code> \u2013 Returns only video liked by the authenticated user.</li>\n",
      "</ul>\n",
      "</td>\n",
      "    </tr>\n",
      "    <tr id=\"optional-parameters\" class=\"alt\">\n",
      "      <td colspan=\"3\"><b>Optional parameters</b></td>\n",
      "    </tr>\n",
      "    <tr id=\"maxResults\">\n",
      "      <td><code itemprop=\"property\">maxResults</code></td>\n",
      "      <td><code class=\"apitype\">unsigned integer</code></td>\n",
      "      <td>The <code><strong>maxResults</strong></code> parameter specifies the maximum number of items that should be returned in the result set.<br><br><strong>Note:</strong> This parameter is supported for use in conjunction with the <code><a href=\"#myRating\">myRating</a></code> parameter, but it is not supported for use in conjunction with the <code><a href=\"#id\">id</a></code> parameter. Acceptable values are <code>1</code> to <code>50</code>, inclusive. The default value is <code>5</code>.</td>\n",
      "    </tr>\n",
      "    <tr id=\"onBehalfOfContentOwner\">\n",
      "      <td><code itemprop=\"property\">onBehalfOfContentOwner</code></td>\n",
      "      <td><code class=\"apitype\">string</code></td>\n",
      "      <td>This parameter can only be used in a properly <a href=\"/youtube/v3/guides/authentication\">authorized request</a>. <strong>Note:</strong> This parameter is intended exclusively for YouTube content partners.<br><br>The <code><strong>onBehalfOfContentOwner</strong></code> parameter indicates that the request's authorization credentials identify a YouTube CMS user who is acting on behalf of the content owner specified in the parameter value. This parameter is intended for YouTube content partners that own and manage many different YouTube channels. It allows content owners to authenticate once and get access to all their video and channel data, without having to provide authentication credentials for each individual channel. The CMS account that the user authenticates with must be linked to the specified YouTube content owner.</td>\n",
      "    </tr>\n",
      "    <tr id=\"pageToken\">\n",
      "      <td><code itemprop=\"property\">pageToken</code></td>\n",
      "      <td><code class=\"apitype\">string</code></td>\n",
      "      <td>The <code><strong>pageToken</strong></code> parameter identifies a specific page in the result set that should be returned. In an API response, the <code>nextPageToken</code> and <code>prevPageToken</code> properties identify other pages that could be retrieved.<br><br><strong>Note:</strong> This parameter is supported for use in conjunction with the <code><a href=\"#myRating\">myRating</a></code> parameter, but it is not supported for use in conjunction with the <code><a href=\"#id\">id</a></code> parameter.</td>\n",
      "    </tr>\n",
      "    <tr id=\"regionCode\">\n",
      "      <td><code itemprop=\"property\">regionCode</code></td>\n",
      "      <td><code class=\"apitype\">string</code></td>\n",
      "      <td>The <code><strong>regionCode</strong></code> parameter instructs the API to select a video chart available in the specified region. This parameter can only be used in conjunction with the <code><a href=\"#chart\">chart</a></code> parameter. The parameter value is an ISO 3166-1 alpha-2 country code.</td>\n",
      "    </tr>\n",
      "    <tr id=\"videoCategoryId\">\n",
      "      <td><code itemprop=\"property\">videoCategoryId</code></td>\n",
      "      <td><code class=\"apitype\">string</code></td>\n",
      "      <td>The <code><strong>videoCategoryId</strong></code> parameter identifies the <a href=\"/youtube/v3/docs/videoCategories\">video category</a> for which the chart should be retrieved. This parameter can only be used in conjunction with the <code><a href=\"#chart\">chart</a></code> parameter. By default, charts are not restricted to a particular category. The default value is <code>0</code>.</td>\n",
      "    </tr>\n",
      "\n",
      "  </tbody>\n",
      "</table>"
     ]
    },
    {
     "cell_type": "heading",
     "level": 2,
     "metadata": {},
     "source": [
      "Preparing The HTTP Request"
     ]
    },
    {
     "cell_type": "code",
     "collapsed": false,
     "input": [
      "parameters = {\"part\": \"statistics\",\n",
      "              \"id\": \"5Q98TvXjIZg\",\n",
      "              \"key\": api_key,\n",
      "              }\n",
      "url = \"https://www.googleapis.com/youtube/v3/videos\""
     ],
     "language": "python",
     "metadata": {},
     "outputs": [],
     "prompt_number": 5
    },
    {
     "cell_type": "code",
     "collapsed": false,
     "input": [
      "page = requests.request(method=\"get\", url=url, params=parameters)\n",
      "j_results = json.loads(page.text)\n",
      "print page.text"
     ],
     "language": "python",
     "metadata": {},
     "outputs": [
      {
       "output_type": "stream",
       "stream": "stdout",
       "text": [
        "{\n",
        " \"kind\": \"youtube#videoListResponse\",\n",
        " \"etag\": \"\\\"PSjn-HSKiX6orvNhGZvglLI2lvk/RI2HLqoe4gS1QbNV867B5089lmY\\\"\",\n",
        " \"pageInfo\": {\n",
        "  \"totalResults\": 1,\n",
        "  \"resultsPerPage\": 1\n",
        " },\n",
        " \"items\": [\n",
        "  {\n",
        "   \"kind\": \"youtube#video\",\n",
        "   \"etag\": \"\\\"PSjn-HSKiX6orvNhGZvglLI2lvk/HdPfiQBFpxUe-eEq-EYCkg3p4b8\\\"\",\n",
        "   \"id\": \"5Q98TvXjIZg\",\n",
        "   \"statistics\": {\n",
        "    \"viewCount\": \"58\",\n",
        "    \"likeCount\": \"0\",\n",
        "    \"dislikeCount\": \"0\",\n",
        "    \"favoriteCount\": \"0\",\n",
        "    \"commentCount\": \"0\"\n",
        "   }\n",
        "  }\n",
        " ]\n",
        "}\n",
        "\n"
       ]
      }
     ],
     "prompt_number": 6
    },
    {
     "cell_type": "heading",
     "level": 2,
     "metadata": {},
     "source": [
      "Process Data Range"
     ]
    },
    {
     "cell_type": "markdown",
     "metadata": {},
     "source": [
      "I'll check the coorelation between the results of 2008 Senate elections results and YouTube Stats."
     ]
    },
    {
     "cell_type": "markdown",
     "metadata": {},
     "source": [
      "Colorado Senate - Gardner vs. Udall\n",
      "Cory Gardner (R)\n",
      "Mark Udall (D)"
     ]
    },
    {
     "cell_type": "code",
     "collapsed": false,
     "input": [
      "def _search_list(q=\"\", publishedAfter=None, publishedBefore=None, pageToken=\"\"):\n",
      "    parameters = {\"part\": \"id\",\n",
      "                  \"maxResults\": 50,\n",
      "                  \"order\": \"viewCount\",\n",
      "                  \"pageToken\": pageToken,\n",
      "                  \"q\": q,\n",
      "                  \"type\": \"video\",\n",
      "                  \"key\": api_key,\n",
      "                  }\n",
      "    url = \"https://www.googleapis.com/youtube/v3/search\"\n",
      "    \n",
      "    if publishedAfter: parameters[\"publishedAfter\"] = publishedAfter\n",
      "    if publishedBefore: parameters[\"publishedBefore\"] = publishedBefore\n",
      "    \n",
      "    page = requests.request(method=\"get\", url=url, params=parameters)\n",
      "    return json.loads(page.text)\n",
      "\n",
      "def search_list(q=\"\", publishedAfter=None, publishedBefore=None, max_requests=10):\n",
      "    more_results = True\n",
      "    pageToken=\"\"\n",
      "    results = []\n",
      "    \n",
      "    for counter in range(max_requests):\n",
      "        j_results = _search_list(q=q, publishedAfter=publishedAfter, publishedBefore=publishedBefore, pageToken=pageToken)\n",
      "        items = j_results.get(\"items\", None)\n",
      "        if items:\n",
      "            results += [item[\"id\"][\"videoId\"] for item in j_results[\"items\"]]\n",
      "            if j_results.has_key(\"nextPageToken\"):\n",
      "                pageToken = j_results[\"nextPageToken\"]\n",
      "            else:\n",
      "                return results\n",
      "        else:\n",
      "            return results\n",
      "    return results\n",
      "\n",
      "def _video_list(video_id_list):\n",
      "    parameters = {\"part\": \"statistics\",\n",
      "                  \"id\": \",\".join(video_id_list),\n",
      "                  \"key\": api_key,\n",
      "                  \"maxResults\": 50\n",
      "                  }\n",
      "    url = \"https://www.googleapis.com/youtube/v3/videos\"\n",
      "    page = requests.request(method=\"get\", url=url, params=parameters)\n",
      "    j_results = json.loads(page.text)\n",
      "    df = pd.DataFrame([item[\"statistics\"] for item in j_results[\"items\"]], dtype=np.int64)\n",
      "    df[\"video_id\"] = [item[\"id\"] for item in j_results[\"items\"]]\n",
      "    \n",
      "    parameters[\"part\"] = \"snippet\"\n",
      "    page = requests.request(method=\"get\", url=url, params=parameters)\n",
      "    j_results = json.loads(page.text)\n",
      "    df[\"publishedAt\"] = [item[\"snippet\"][\"publishedAt\"] for item in j_results[\"items\"]]\n",
      "    df[\"publishedAt\"] = df[\"publishedAt\"].apply(lambda x: datetime.strptime(x, \"%Y-%m-%dT%H:%M:%S.000Z\"))\n",
      "    df[\"date\"] = df[\"publishedAt\"].apply(lambda x: x.date())\n",
      "    df[\"week\"] = df[\"date\"].apply(lambda x: x.isocalendar()[1])\n",
      "    df[\"channelId\"] = [item[\"snippet\"][\"channelId\"] for item in j_results[\"items\"]]\n",
      "    df[\"title\"] = [item[\"snippet\"][\"title\"] for item in j_results[\"items\"]]\n",
      "    df[\"description\"] = [item[\"snippet\"][\"description\"] for item in j_results[\"items\"]]\n",
      "    df[\"channelTitle\"] = [item[\"snippet\"][\"channelTitle\"] for item in j_results[\"items\"]]\n",
      "    df[\"categoryId\"] = [item[\"snippet\"][\"categoryId\"] for item in j_results[\"items\"]]\n",
      "    return df\n",
      "\n",
      "def video_list(video_id_list):\n",
      "    values = []\n",
      "    for index, item in enumerate(video_id_list[::50]):\n",
      "        t_index = index * 50\n",
      "        values.append(_video_list(video_id_list[t_index:t_index+50]))\n",
      "    return pd.concat(values)"
     ],
     "language": "python",
     "metadata": {},
     "outputs": [],
     "prompt_number": 7
    },
    {
     "cell_type": "heading",
     "level": 2,
     "metadata": {},
     "source": [
      "Get Data for Two Candidates"
     ]
    },
    {
     "cell_type": "code",
     "collapsed": false,
     "input": [
      "def get_data(candidates, publishedAfter, publishedBefore):\n",
      "    results_list = []\n",
      "    for q in candidates:\n",
      "        results = search_list(q=q,\n",
      "                              publishedAfter=publishedAfter,\n",
      "                              publishedBefore=publishedBefore,\n",
      "                              max_requests=50)\n",
      "\n",
      "        stat_data_set = video_list(results)\n",
      "        stat_data_set[\"candidate_name\"] = q\n",
      "        results_list.append(stat_data_set)\n",
      "    data_set = pd.concat(results_list)\n",
      "    return data_set\n",
      "\n",
      "def get_2008_data(candidates):\n",
      "    return get_data(candidates, publishedAfter=\"2008-08-04T00:00:00Z\", publishedBefore=\"2008-11-04T00:00:00Z\")\n",
      "\n",
      "def get_2010_data(candidates):\n",
      "    return get_data(candidates, publishedAfter=\"2010-08-04T00:00:00Z\", publishedBefore=\"2010-11-04T00:00:00Z\")\n",
      "\n",
      "def get_2012_data(candidates):\n",
      "    return get_data(candidates, publishedAfter=\"2012-08-04T00:00:00Z\", publishedBefore=\"2012-11-04T00:00:00Z\")\n",
      "\n",
      "def get_2014_data(candidates):\n",
      "    return get_data(candidates, publishedAfter=\"2014-08-04T00:00:00Z\", publishedBefore=\"2014-11-04T00:00:00Z\")"
     ],
     "language": "python",
     "metadata": {},
     "outputs": [],
     "prompt_number": 8
    },
    {
     "cell_type": "heading",
     "level": 1,
     "metadata": {},
     "source": [
      "Analyzing Colorado Senate Race for 2014"
     ]
    },
    {
     "cell_type": "code",
     "collapsed": false,
     "input": [
      "candidates = [\"Cory Gardner\", \"Mark Udall\"] # Cory Gardner (R), Mark Udall (D)*\n",
      "colorado_2014_ds = get_2014_data(candidates)\n",
      "pd.pivot_table(colorado_2014_ds, values=[\"commentCount\", \"favoriteCount\", \"dislikeCount\", \"likeCount\", \"viewCount\"],\n",
      "               aggfunc='sum', rows=\"candidate_name\")"
     ],
     "language": "python",
     "metadata": {},
     "outputs": [
      {
       "html": [
        "<div style=\"max-height:1000px;max-width:1500px;overflow:auto;\">\n",
        "<table border=\"1\" class=\"dataframe\">\n",
        "  <thead>\n",
        "    <tr style=\"text-align: right;\">\n",
        "      <th></th>\n",
        "      <th>commentCount</th>\n",
        "      <th>dislikeCount</th>\n",
        "      <th>favoriteCount</th>\n",
        "      <th>likeCount</th>\n",
        "      <th>viewCount</th>\n",
        "    </tr>\n",
        "    <tr>\n",
        "      <th>candidate_name</th>\n",
        "      <th></th>\n",
        "      <th></th>\n",
        "      <th></th>\n",
        "      <th></th>\n",
        "      <th></th>\n",
        "    </tr>\n",
        "  </thead>\n",
        "  <tbody>\n",
        "    <tr>\n",
        "      <th>Cory Gardner</th>\n",
        "      <td> 304</td>\n",
        "      <td> 167</td>\n",
        "      <td> 0</td>\n",
        "      <td> 437</td>\n",
        "      <td> 234669</td>\n",
        "    </tr>\n",
        "    <tr>\n",
        "      <th>Mark Udall</th>\n",
        "      <td> 195</td>\n",
        "      <td> 470</td>\n",
        "      <td> 0</td>\n",
        "      <td> 450</td>\n",
        "      <td> 144744</td>\n",
        "    </tr>\n",
        "  </tbody>\n",
        "</table>\n",
        "</div>"
       ],
       "metadata": {},
       "output_type": "pyout",
       "prompt_number": 9,
       "text": [
        "                commentCount  dislikeCount  favoriteCount  likeCount  viewCount\n",
        "candidate_name                                                                 \n",
        "Cory Gardner             304           167              0        437     234669\n",
        "Mark Udall               195           470              0        450     144744"
       ]
      }
     ],
     "prompt_number": 9
    },
    {
     "cell_type": "code",
     "collapsed": false,
     "input": [
      "for candidate, color in zip(candidates, [\"r\", \"b\"]):\n",
      "    cand = colorado_2014_ds[colorado_2014_ds[\"candidate_name\"]==candidate]\n",
      "    by_date = cand[\"week\"].value_counts()\n",
      "    by_date = by_date.sort_index()\n",
      "    dates = by_date.index\n",
      "    plt.plot(dates, by_date.values, \"-o\", label=candidate, c=color, linewidth=2)\n",
      "plt.legend(loc=\"best\")\n",
      "plt.ylabel(\"Videos Published\")\n",
      "plt.xlabel(\"Week\")\n",
      "plt.show()"
     ],
     "language": "python",
     "metadata": {},
     "outputs": [
      {
       "metadata": {},
       "output_type": "display_data",
       "png": "[encoded data removed]",
       "text": [
        "<matplotlib.figure.Figure at 0x7ff0805e8e50>"
       ]
      }
     ],
     "prompt_number": 10
    },
    {
     "cell_type": "code",
     "collapsed": false,
     "input": [
      "for candidate, color in zip(candidates, [\"r\", \"b\"]):\n",
      "    cand = colorado_2014_ds[colorado_2014_ds[\"candidate_name\"]==candidate]\n",
      "    by_date = pd.pivot_table(cand, rows=[\"week\"], values=[\"viewCount\"], aggfunc=\"sum\")\n",
      "    by_date = by_date.sort_index()\n",
      "    dates = by_date.index\n",
      "    plt.plot(dates, by_date.values, \"-o\", label=candidate, c=color, linewidth=2)\n",
      "plt.legend(loc=\"best\")\n",
      "plt.ylabel(\"Videos viewCount\")\n",
      "plt.xlabel(\"Week\")\n",
      "plt.show()"
     ],
     "language": "python",
     "metadata": {},
     "outputs": [
      {
       "metadata": {},
       "output_type": "display_data",
       "png": "[encoded data removed]",
       "text": [
        "<matplotlib.figure.Figure at 0x7ff0804fa310>"
       ]
      }
     ],
     "prompt_number": 11
    },
    {
     "cell_type": "code",
     "collapsed": false,
     "input": [
      "for candidate, color in zip(candidates, [\"r\", \"b\"]):\n",
      "    cand = colorado_2014_ds[colorado_2014_ds[\"candidate_name\"]==candidate]\n",
      "    by_date = pd.pivot_table(cand, rows=[\"week\"], values=[\"likeCount\"], aggfunc=\"sum\")\n",
      "    by_date = by_date.sort_index()\n",
      "    dates = by_date.index\n",
      "    plt.plot(dates, by_date.values, \"-o\", label=candidate, c=color, linewidth=2)\n",
      "plt.legend(loc=\"best\")\n",
      "plt.ylabel(\"Videos likeCount\")\n",
      "plt.xlabel(\"Week\")\n",
      "plt.show()"
     ],
     "language": "python",
     "metadata": {},
     "outputs": [
      {
       "metadata": {},
       "output_type": "display_data",
       "png": "[encoded data removed]",
       "text": [
        "<matplotlib.figure.Figure at 0x7ff078bd3c50>"
       ]
      }
     ],
     "prompt_number": 12
    },
    {
     "cell_type": "code",
     "collapsed": false,
     "input": [
      "for candidate, color in zip(candidates, [\"r\", \"b\"]):\n",
      "    cand = colorado_2014_ds[colorado_2014_ds[\"candidate_name\"]==candidate]\n",
      "    by_date = pd.pivot_table(cand, rows=[\"week\"], values=[\"dislikeCount\"], aggfunc=\"sum\")\n",
      "    by_date = by_date.sort_index()\n",
      "    dates = by_date.index\n",
      "    plt.plot(dates, by_date.values, \"-o\", label=candidate, c=color, linewidth=2)\n",
      "plt.legend(loc=\"best\")\n",
      "plt.ylabel(\"Videos dislikeCount\")\n",
      "plt.xlabel(\"Week\")\n",
      "plt.show()"
     ],
     "language": "python",
     "metadata": {},
     "outputs": [
      {
       "metadata": {},
       "output_type": "display_data",
       "png": "[encoded data removed]",
       "text": [
        "<matplotlib.figure.Figure at 0x7ff078b29890>"
       ]
      }
     ],
     "prompt_number": 13
    },
    {
     "cell_type": "heading",
     "level": 2,
     "metadata": {},
     "source": [
      "How Predective Was It in 2012?"
     ]
    },
    {
     "cell_type": "heading",
     "level": 3,
     "metadata": {},
     "source": [
      "Virginia Senate - Allen vs. Kaine"
     ]
    },
    {
     "cell_type": "code",
     "collapsed": false,
     "input": [
      "candidates = [\"George Allen\", \"Tim Kaine\"] # George Allen (R),  Tim Kaine (D)Winner\n",
      "va_2012_ds = get_2012_data(candidates)\n",
      "pd.pivot_table(va_2012_ds, values=[\"commentCount\", \"favoriteCount\", \"dislikeCount\", \"likeCount\", \"viewCount\"],\n",
      "               aggfunc='sum', rows=\"candidate_name\")"
     ],
     "language": "python",
     "metadata": {},
     "outputs": [
      {
       "html": [
        "<div style=\"max-height:1000px;max-width:1500px;overflow:auto;\">\n",
        "<table border=\"1\" class=\"dataframe\">\n",
        "  <thead>\n",
        "    <tr style=\"text-align: right;\">\n",
        "      <th></th>\n",
        "      <th>commentCount</th>\n",
        "      <th>dislikeCount</th>\n",
        "      <th>favoriteCount</th>\n",
        "      <th>likeCount</th>\n",
        "      <th>viewCount</th>\n",
        "    </tr>\n",
        "    <tr>\n",
        "      <th>candidate_name</th>\n",
        "      <th></th>\n",
        "      <th></th>\n",
        "      <th></th>\n",
        "      <th></th>\n",
        "      <th></th>\n",
        "    </tr>\n",
        "  </thead>\n",
        "  <tbody>\n",
        "    <tr>\n",
        "      <th>George Allen</th>\n",
        "      <td> 297</td>\n",
        "      <td> 352</td>\n",
        "      <td> 0</td>\n",
        "      <td> 475</td>\n",
        "      <td> 203297</td>\n",
        "    </tr>\n",
        "    <tr>\n",
        "      <th>Tim Kaine</th>\n",
        "      <td> 174</td>\n",
        "      <td>  97</td>\n",
        "      <td> 0</td>\n",
        "      <td> 553</td>\n",
        "      <td> 248367</td>\n",
        "    </tr>\n",
        "  </tbody>\n",
        "</table>\n",
        "</div>"
       ],
       "metadata": {},
       "output_type": "pyout",
       "prompt_number": 14,
       "text": [
        "                commentCount  dislikeCount  favoriteCount  likeCount  viewCount\n",
        "candidate_name                                                                 \n",
        "George Allen             297           352              0        475     203297\n",
        "Tim Kaine                174            97              0        553     248367"
       ]
      }
     ],
     "prompt_number": 14
    },
    {
     "cell_type": "code",
     "collapsed": false,
     "input": [
      "for candidate, color in zip(candidates, [\"r\", \"b\"]):\n",
      "    cand = va_2012_ds[va_2012_ds[\"candidate_name\"]==candidate]\n",
      "    by_date = cand[\"week\"].value_counts()\n",
      "    by_date = by_date.sort_index()\n",
      "    dates = by_date.index\n",
      "    plt.plot(dates, by_date.values, \"-o\", label=candidate, c=color, linewidth=2)\n",
      "plt.legend(loc=\"best\")\n",
      "plt.ylabel(\"Videos Published\")\n",
      "plt.xlabel(\"Week\")\n",
      "plt.show()"
     ],
     "language": "python",
     "metadata": {},
     "outputs": [
      {
       "metadata": {},
       "output_type": "display_data",
       "png": "[encoded data removed]",
       "text": [
        "<matplotlib.figure.Figure at 0x7ff078b29050>"
       ]
      }
     ],
     "prompt_number": 15
    },
    {
     "cell_type": "code",
     "collapsed": false,
     "input": [
      "for candidate, color in zip(candidates, [\"r\", \"b\"]):\n",
      "    cand = va_2012_ds[va_2012_ds[\"candidate_name\"]==candidate]\n",
      "    by_date = pd.pivot_table(cand, rows=[\"week\"], values=[\"viewCount\"], aggfunc=\"sum\")\n",
      "    by_date = by_date.sort_index()\n",
      "    dates = by_date.index\n",
      "    plt.plot(dates, by_date.values, \"-o\", label=candidate, c=color, linewidth=2)\n",
      "plt.legend(loc=\"best\")\n",
      "plt.ylabel(\"Videos viewCount\")\n",
      "plt.xlabel(\"Week\")\n",
      "plt.show()"
     ],
     "language": "python",
     "metadata": {},
     "outputs": [
      {
       "metadata": {},
       "output_type": "display_data",
       "png": "[encoded data removed]",
       "text": [
        "<matplotlib.figure.Figure at 0x7ff078959c10>"
       ]
      }
     ],
     "prompt_number": 16
    },
    {
     "cell_type": "code",
     "collapsed": false,
     "input": [
      "for candidate, color in zip(candidates, [\"r\", \"b\"]):\n",
      "    cand = va_2012_ds[va_2012_ds[\"candidate_name\"]==candidate]\n",
      "    by_date = pd.pivot_table(cand, rows=[\"week\"], values=[\"likeCount\"], aggfunc=\"sum\")\n",
      "    by_date = by_date.sort_index()\n",
      "    dates = by_date.index\n",
      "    plt.plot(dates, by_date.values, \"-o\", label=candidate, c=color, linewidth=2)\n",
      "plt.legend(loc=\"best\")\n",
      "plt.ylabel(\"Videos likeCount\")\n",
      "plt.xlabel(\"Week\")\n",
      "plt.show()"
     ],
     "language": "python",
     "metadata": {},
     "outputs": [
      {
       "metadata": {},
       "output_type": "display_data",
       "png": "[encoded data removed]",
       "text": [
        "<matplotlib.figure.Figure at 0x7ff07891d5d0>"
       ]
      }
     ],
     "prompt_number": 17
    },
    {
     "cell_type": "code",
     "collapsed": false,
     "input": [
      "for candidate, color in zip(candidates, [\"r\", \"b\"]):\n",
      "    cand = va_2012_ds[va_2012_ds[\"candidate_name\"]==candidate]\n",
      "    by_date = pd.pivot_table(cand, rows=[\"week\"], values=[\"dislikeCount\"], aggfunc=\"sum\")\n",
      "    by_date = by_date.sort_index()\n",
      "    dates = by_date.index\n",
      "    plt.plot(dates, by_date.values, \"-o\", label=candidate, c=color, linewidth=2)\n",
      "plt.legend(loc=\"best\")\n",
      "plt.ylabel(\"Videos dislikeCount\")\n",
      "plt.xlabel(\"Week\")\n",
      "plt.show()"
     ],
     "language": "python",
     "metadata": {},
     "outputs": [
      {
       "metadata": {},
       "output_type": "display_data",
       "png": "[encoded data removed]",
       "text": [
        "<matplotlib.figure.Figure at 0x7ff078bdb110>"
       ]
      }
     ],
     "prompt_number": 18
    },
    {
     "cell_type": "heading",
     "level": 2,
     "metadata": {},
     "source": [
      "Nevada Senate - Heller vs. Berkley"
     ]
    },
    {
     "cell_type": "code",
     "collapsed": false,
     "input": [
      "candidates = [\"Dean Heller\", \"Shelley Berkley\"] # Dean Heller (R)*Winnner, Shelley Berkley (D)\n",
      "nv_2012_ds = get_2012_data(candidates)\n",
      "print pd.pivot_table(nv_2012_ds, values=[\"commentCount\", \"favoriteCount\", \"dislikeCount\", \"likeCount\", \"viewCount\"],\n",
      "               aggfunc='sum', rows=\"candidate_name\")\n",
      "\n",
      "for candidate, color in zip(candidates, [\"r\", \"b\"]):\n",
      "    cand = nv_2012_ds[nv_2012_ds[\"candidate_name\"]==candidate]\n",
      "    by_date = cand[\"week\"].value_counts()\n",
      "    by_date = by_date.sort_index()\n",
      "    dates = by_date.index\n",
      "    plt.plot(dates, by_date.values, \"-o\", label=candidate, c=color, linewidth=2)\n",
      "plt.legend(loc=\"best\")\n",
      "plt.ylabel(\"Videos Published\")\n",
      "plt.xlabel(\"Week\")\n",
      "plt.show()\n",
      "\n",
      "for candidate, color in zip(candidates, [\"r\", \"b\"]):\n",
      "    cand = nv_2012_ds[nv_2012_ds[\"candidate_name\"]==candidate]\n",
      "    by_date = pd.pivot_table(cand, rows=[\"week\"], values=[\"viewCount\"], aggfunc=\"sum\")\n",
      "    by_date = by_date.sort_index()\n",
      "    dates = by_date.index\n",
      "    plt.plot(dates, by_date.values, \"-o\", label=candidate, c=color, linewidth=2)\n",
      "plt.legend(loc=\"best\")\n",
      "plt.ylabel(\"Videos viewCount\")\n",
      "plt.xlabel(\"Week\")\n",
      "plt.show()\n",
      "\n",
      "for candidate, color in zip(candidates, [\"r\", \"b\"]):\n",
      "    cand = nv_2012_ds[nv_2012_ds[\"candidate_name\"]==candidate]\n",
      "    by_date = pd.pivot_table(cand, rows=[\"week\"], values=[\"likeCount\"], aggfunc=\"sum\")\n",
      "    by_date = by_date.sort_index()\n",
      "    dates = by_date.index\n",
      "    plt.plot(dates, by_date.values, \"-o\", label=candidate, c=color, linewidth=2)\n",
      "plt.legend(loc=\"best\")\n",
      "plt.ylabel(\"Videos likeCount\")\n",
      "plt.xlabel(\"Week\")\n",
      "plt.show()\n",
      "\n",
      "for candidate, color in zip(candidates, [\"r\", \"b\"]):\n",
      "    cand = nv_2012_ds[nv_2012_ds[\"candidate_name\"]==candidate]\n",
      "    by_date = pd.pivot_table(cand, rows=[\"week\"], values=[\"dislikeCount\"], aggfunc=\"sum\")\n",
      "    by_date = by_date.sort_index()\n",
      "    dates = by_date.index\n",
      "    plt.plot(dates, by_date.values, \"-o\", label=candidate, c=color, linewidth=2)\n",
      "plt.legend(loc=\"best\")\n",
      "plt.ylabel(\"Videos dislikeCount\")\n",
      "plt.xlabel(\"Week\")\n",
      "plt.show()"
     ],
     "language": "python",
     "metadata": {},
     "outputs": [
      {
       "output_type": "stream",
       "stream": "stdout",
       "text": [
        "                 commentCount  dislikeCount  favoriteCount  likeCount  viewCount\n",
        "candidate_name                                                                  \n",
        "Dean Heller               248           644              0        926     870677\n",
        "Shelley Berkley           222           206              0        472     679636\n"
       ]
      },
      {
       "metadata": {},
       "output_type": "display_data",
       "png": "[encoded data removed]",
       "text": [
        "<matplotlib.figure.Figure at 0x7ff078bdb450>"
       ]
      },
      {
       "metadata": {},
       "output_type": "display_data",
       "png": "[encoded data removed]",
       "text": [
        "<matplotlib.figure.Figure at 0x7ff078c13850>"
       ]
      },
      {
       "metadata": {},
       "output_type": "display_data",
       "png": "[encoded data removed]",
       "text": [
        "<matplotlib.figure.Figure at 0x7ff07880f210>"
       ]
      },
      {
       "metadata": {},
       "output_type": "display_data",
       "png": "[encoded data removed]",
       "text": [
        "<matplotlib.figure.Figure at 0x7ff078778450>"
       ]
      }
     ],
     "prompt_number": 19
    },
    {
     "cell_type": "heading",
     "level": 1,
     "metadata": {},
     "source": [
      "Current Senate $113^{th}$"
     ]
    },
    {
     "cell_type": "markdown",
     "metadata": {},
     "source": [
      "Data Sources:\n",
      "\n",
      "- http://www.fec.gov/data/CandidateSummary.do?format=html\n",
      "- http://www.senate.gov/general/contact_information/senators_cfm.cfm"
     ]
    },
    {
     "cell_type": "heading",
     "level": 2,
     "metadata": {},
     "source": [
      "Get Current Senate Data"
     ]
    },
    {
     "cell_type": "code",
     "collapsed": false,
     "input": [
      "url = \"http://www.senate.gov/general/contact_information/senators_cfm.xml\"\n",
      "response = requests.get(url)\n",
      "tree = etree.fromstring(str(response.text))\n",
      "print tree"
     ],
     "language": "python",
     "metadata": {},
     "outputs": [
      {
       "output_type": "stream",
       "stream": "stdout",
       "text": [
        "<Element contact_information at 0x7ff0804d4170>\n"
       ]
      }
     ],
     "prompt_number": 20
    },
    {
     "cell_type": "heading",
     "level": 2,
     "metadata": {},
     "source": [
      "Store Data In Pandas Data Frame"
     ]
    },
    {
     "cell_type": "code",
     "collapsed": false,
     "input": [
      "member_full = [member.xpath(\"member_full\")[0].text for member in tree.xpath(\"//member\")]\n",
      "senators = pd.DataFrame(member_full, columns=[\"member_full\"])\n",
      "\n",
      "senators[\"member_full\"] = member_full\n",
      "senators[\"last_name\"] = [member.xpath(\"last_name\")[0].text for member in tree.xpath(\"//member\")]\n",
      "senators[\"first_name\"] = [member.xpath(\"first_name\")[0].text for member in tree.xpath(\"//member\")]\n",
      "senators[\"party\"] = [member.xpath(\"party\")[0].text for member in tree.xpath(\"//member\")]\n",
      "senators[\"state\"] = [member.xpath(\"state\")[0].text for member in tree.xpath(\"//member\")]\n",
      "senators[\"address\"] = [member.xpath(\"address\")[0].text for member in tree.xpath(\"//member\")]\n",
      "senators[\"phone\"] = [member.xpath(\"phone\")[0].text for member in tree.xpath(\"//member\")]\n",
      "senators[\"website\"] = [member.xpath(\"website\")[0].text for member in tree.xpath(\"//member\")]\n",
      "senators[\"bioguide_id\"] = [member.xpath(\"bioguide_id\")[0].text for member in tree.xpath(\"//member\")]\n",
      "senators[\"class\"] = [member.xpath(\"class\")[0].text for member in tree.xpath(\"//member\")]\n",
      "\n",
      "senators"
     ],
     "language": "python",
     "metadata": {},
     "outputs": [
      {
       "html": [
        "<pre>\n",
        "&lt;class 'pandas.core.frame.DataFrame'&gt;\n",
        "Int64Index: 100 entries, 0 to 99\n",
        "Data columns (total 10 columns):\n",
        "member_full    100  non-null values\n",
        "last_name      100  non-null values\n",
        "first_name     100  non-null values\n",
        "party          100  non-null values\n",
        "state          100  non-null values\n",
        "address        100  non-null values\n",
        "phone          100  non-null values\n",
        "website        100  non-null values\n",
        "bioguide_id    100  non-null values\n",
        "class          100  non-null values\n",
        "dtypes: object(10)\n",
        "</pre>"
       ],
       "metadata": {},
       "output_type": "pyout",
       "prompt_number": 21,
       "text": [
        "<class 'pandas.core.frame.DataFrame'>\n",
        "Int64Index: 100 entries, 0 to 99\n",
        "Data columns (total 10 columns):\n",
        "member_full    100  non-null values\n",
        "last_name      100  non-null values\n",
        "first_name     100  non-null values\n",
        "party          100  non-null values\n",
        "state          100  non-null values\n",
        "address        100  non-null values\n",
        "phone          100  non-null values\n",
        "website        100  non-null values\n",
        "bioguide_id    100  non-null values\n",
        "class          100  non-null values\n",
        "dtypes: object(10)"
       ]
      }
     ],
     "prompt_number": 21
    },
    {
     "cell_type": "heading",
     "level": 2,
     "metadata": {},
     "source": [
      "Control By Party"
     ]
    },
    {
     "cell_type": "code",
     "collapsed": false,
     "input": [
      "by_party = senators[\"party\"].value_counts()\n",
      "by_party.sort(ascending=False)\n",
      "print by_party\n",
      "\n",
      "color_dict = {\"D\": \"b\",\n",
      "              \"R\": \"r\",\n",
      "              \"I\": \"g\"}\n",
      "\n",
      "\n",
      "labels = [\"%s: %s\" % (by_party.index[index], value) for index, value in enumerate(by_party)]\n",
      "colors = list(pd.Series(by_party.index).map(color_dict))\n",
      "\n",
      "plt.figure()\n",
      "plt.axis(\"equal\")\n",
      "plt.pie(by_party.values, labels=labels, colors=colors, shadow=True, explode=np.zeros(len(by_party)) + 0.04)\n",
      "plt.show()\n",
      "\n",
      "\n",
      "fig = plt.figure()\n",
      "axes = fig.add_subplot(111)\n",
      "axes.barh(range(len(by_party.index)), by_party.values, color=colors)\n",
      "plt.box(on=\"off\")\n",
      "axes.axvline(x=50, color=\"black\", alpha=0.7, linewidth=2)\n",
      "axes.yaxis.set_ticks([item + 0.4 for item in range(len(by_party.index))])\n",
      "axes.yaxis.set_ticklabels(by_party.index, minor=False)\n",
      "plt.xlabel(\"$113^{th}$ Senate Seats Controlled by Party\")\n",
      "plt.show()"
     ],
     "language": "python",
     "metadata": {},
     "outputs": [
      {
       "output_type": "stream",
       "stream": "stdout",
       "text": [
        "D    53\n",
        "R    45\n",
        "I     2\n",
        "dtype: int64\n"
       ]
      },
      {
       "metadata": {},
       "output_type": "display_data",
       "png": "[encoded data removed]",
       "text": [
        "<matplotlib.figure.Figure at 0x7ff0786b7e10>"
       ]
      },
      {
       "metadata": {},
       "output_type": "display_data",
       "png": "[encoded data removed]",
       "text": [
        "<matplotlib.figure.Figure at 0x7ff07874a990>"
       ]
      }
     ],
     "prompt_number": 22
    },
    {
     "cell_type": "heading",
     "level": 2,
     "metadata": {},
     "source": [
      "Who is up for Re-election?"
     ]
    },
    {
     "cell_type": "markdown",
     "metadata": {},
     "source": [
      "Class II senators are up for re-election."
     ]
    },
    {
     "cell_type": "code",
     "collapsed": false,
     "input": [
      "class_2_senators = senators[senators[\"class\"]==\"Class II\"]\n",
      "by_party =class_2_senators[\"party\"].value_counts()\n",
      "by_party.sort(ascending=False)\n",
      "print by_party\n",
      "\n",
      "labels = [\"%s: %s\" % (by_party.index[index], value) for index, value in enumerate(by_party)]\n",
      "colors = list(pd.Series(by_party.index).map(color_dict))\n",
      "\n",
      "plt.figure()\n",
      "plt.axis(\"equal\")\n",
      "plt.pie(by_party.values, labels=labels, colors=colors, shadow=True, explode=np.zeros(len(by_party)) + 0.04)\n",
      "plt.show()\n",
      "\n",
      "color_dict = {\"D\": \"b\",\n",
      "              \"R\": \"r\",\n",
      "              \"I\": \"g\"}\n",
      "\n",
      "fig = plt.figure()\n",
      "axes = fig.add_subplot(111)\n",
      "axes.barh(range(len(by_party.index)), by_party.values, color=colors)\n",
      "plt.box(on=\"off\")\n",
      "axes.yaxis.set_ticks([item + 0.4 for item in range(len(by_party.index))])\n",
      "axes.yaxis.set_ticklabels(by_party.index, minor=False)\n",
      "plt.xlabel(\"$113^{th}$ Senate Seats of $Class II$ Controlled by Party\")\n",
      "plt.show()"
     ],
     "language": "python",
     "metadata": {},
     "outputs": [
      {
       "output_type": "stream",
       "stream": "stdout",
       "text": [
        "D    20\n",
        "R    13\n",
        "dtype: int64\n"
       ]
      },
      {
       "metadata": {},
       "output_type": "display_data",
       "png": "[encoded data removed]",
       "text": [
        "<matplotlib.figure.Figure at 0x7ff0786b7b10>"
       ]
      },
      {
       "metadata": {},
       "output_type": "display_data",
       "png": "[encoded data removed]",
       "text": [
        "<matplotlib.figure.Figure at 0x7ff078adc510>"
       ]
      }
     ],
     "prompt_number": 23
    },
    {
     "cell_type": "heading",
     "level": 2,
     "metadata": {},
     "source": [
      "Looking at the other classes"
     ]
    },
    {
     "cell_type": "code",
     "collapsed": false,
     "input": [
      "class_3_senators = senators[senators[\"class\"]==\"Class III\"]\n",
      "by_party =class_3_senators[\"party\"].value_counts()\n",
      "by_party.sort(ascending=False)\n",
      "print by_party\n",
      "\n",
      "labels = [\"%s: %s\" % (by_party.index[index], value) for index, value in enumerate(by_party)]\n",
      "colors = list(pd.Series(by_party.index).map(color_dict))\n",
      "\n",
      "plt.figure()\n",
      "plt.axis(\"equal\")\n",
      "plt.pie(by_party.values, labels=labels, colors=colors, shadow=True, explode=np.zeros(len(by_party)) + 0.04)\n",
      "plt.show()\n",
      "\n",
      "color_dict = {\"D\": \"b\",\n",
      "              \"R\": \"r\",\n",
      "              \"I\": \"g\"}\n",
      "\n",
      "fig = plt.figure()\n",
      "axes = fig.add_subplot(111)\n",
      "axes.barh(range(len(by_party.index)), by_party.values, color=colors)\n",
      "plt.box(on=\"off\")\n",
      "axes.yaxis.set_ticks([item + 0.4 for item in range(len(by_party.index))])\n",
      "axes.yaxis.set_ticklabels(by_party.index, minor=False)\n",
      "plt.xlabel(\"$113^{th}$ Senate Seats of $Class III$ Controlled by Party\")\n",
      "plt.show()"
     ],
     "language": "python",
     "metadata": {},
     "outputs": [
      {
       "output_type": "stream",
       "stream": "stdout",
       "text": [
        "R    24\n",
        "D    10\n",
        "dtype: int64\n"
       ]
      },
      {
       "metadata": {},
       "output_type": "display_data",
       "png": "[encoded data removed]",
       "text": [
        "<matplotlib.figure.Figure at 0x7ff078ae45d0>"
       ]
      },
      {
       "metadata": {},
       "output_type": "display_data",
       "png": "[encoded data removed]",
       "text": [
        "<matplotlib.figure.Figure at 0x7ff0787413d0>"
       ]
      }
     ],
     "prompt_number": 24
    },
    {
     "cell_type": "code",
     "collapsed": false,
     "input": [
      "class_1_senators = senators[senators[\"class\"]==\"Class I\"]\n",
      "by_party =class_1_senators[\"party\"].value_counts()\n",
      "by_party.sort(ascending=False)\n",
      "print by_party\n",
      "\n",
      "labels = [\"%s: %s\" % (by_party.index[index], value) for index, value in enumerate(by_party)]\n",
      "colors = list(pd.Series(by_party.index).map(color_dict))\n",
      "\n",
      "plt.figure()\n",
      "plt.axis(\"equal\")\n",
      "plt.pie(by_party.values, labels=labels, colors=colors, shadow=True, explode=np.zeros(len(by_party)) + 0.04)\n",
      "plt.show()\n",
      "\n",
      "color_dict = {\"D\": \"b\",\n",
      "              \"R\": \"r\",\n",
      "              \"I\": \"g\"}\n",
      "\n",
      "fig = plt.figure()\n",
      "axes = fig.add_subplot(111)\n",
      "axes.barh(range(len(by_party.index)), by_party.values, color=colors)\n",
      "plt.box(on=\"off\")\n",
      "axes.yaxis.set_ticks([item + 0.4 for item in range(len(by_party.index))])\n",
      "axes.yaxis.set_ticklabels(by_party.index, minor=False)\n",
      "plt.xlabel(\"$113^{th}$ Senate Seats of $Class I$ Controlled by Party\")\n",
      "plt.show()"
     ],
     "language": "python",
     "metadata": {},
     "outputs": [
      {
       "output_type": "stream",
       "stream": "stdout",
       "text": [
        "D    23\n",
        "R     8\n",
        "I     2\n",
        "dtype: int64\n"
       ]
      },
      {
       "metadata": {},
       "output_type": "display_data",
       "png": "[encoded data removed]",
       "text": [
        "<matplotlib.figure.Figure at 0x7ff0787789d0>"
       ]
      },
      {
       "metadata": {},
       "output_type": "display_data",
       "png": "[encoded data removed]",
       "text": [
        "<matplotlib.figure.Figure at 0x7ff078729c50>"
       ]
      }
     ],
     "prompt_number": 25
    },
    {
     "cell_type": "heading",
     "level": 1,
     "metadata": {},
     "source": [
      "Forecasting Results of Senate Elections 2014"
     ]
    },
    {
     "cell_type": "markdown",
     "metadata": {},
     "source": [
      "Start with listing all seat in $Class II$"
     ]
    },
    {
     "cell_type": "code",
     "collapsed": false,
     "input": [
      "class_2_senators = senators[senators[\"class\"]==\"Class II\"].sort(\"state\")\n",
      "class_2_senators"
     ],
     "language": "python",
     "metadata": {},
     "outputs": [
      {
       "html": [
        "<pre>\n",
        "&lt;class 'pandas.core.frame.DataFrame'&gt;\n",
        "Int64Index: 33 entries, 4 to 29\n",
        "Data columns (total 10 columns):\n",
        "member_full    33  non-null values\n",
        "last_name      33  non-null values\n",
        "first_name     33  non-null values\n",
        "party          33  non-null values\n",
        "state          33  non-null values\n",
        "address        33  non-null values\n",
        "phone          33  non-null values\n",
        "website        33  non-null values\n",
        "bioguide_id    33  non-null values\n",
        "class          33  non-null values\n",
        "dtypes: object(10)\n",
        "</pre>"
       ],
       "metadata": {},
       "output_type": "pyout",
       "prompt_number": 26,
       "text": [
        "<class 'pandas.core.frame.DataFrame'>\n",
        "Int64Index: 33 entries, 4 to 29\n",
        "Data columns (total 10 columns):\n",
        "member_full    33  non-null values\n",
        "last_name      33  non-null values\n",
        "first_name     33  non-null values\n",
        "party          33  non-null values\n",
        "state          33  non-null values\n",
        "address        33  non-null values\n",
        "phone          33  non-null values\n",
        "website        33  non-null values\n",
        "bioguide_id    33  non-null values\n",
        "class          33  non-null values\n",
        "dtypes: object(10)"
       ]
      }
     ],
     "prompt_number": 26
    },
    {
     "cell_type": "heading",
     "level": 2,
     "metadata": {},
     "source": [
      "Get Competitors"
     ]
    },
    {
     "cell_type": "heading",
     "level": 3,
     "metadata": {},
     "source": [
      "Fetch Data"
     ]
    },
    {
     "cell_type": "code",
     "collapsed": false,
     "input": [
      "url = \"http://www.fec.gov/data/CandidateSummary.do?format=xml\"\n",
      "response = requests.get(url)\n",
      "page = html.fromstring(str(response.text))\n",
      "print response.text[:1000]"
     ],
     "language": "python",
     "metadata": {},
     "outputs": [
      {
       "output_type": "stream",
       "stream": "stdout",
       "text": [
        "<data.fec.gov xmlns:fecdc=\"http://www.w3.org/2001/XMLSchema-instance\" fecdc:schemaLocation=\"/data /finance/disclosure/schema/CandidateSummary.xsd\"><title>Candidate Summary</title><description>This file contains information for each candidate who has registered with the FEC or appears on an official state ballot for an election to the U.S. House of Representatives, U.S. Senate or U.S. President. The table is available for the current election cycle and for election cycles through 2008.</description><timestamp>2014-10-08T05:05:20-05:00</timestamp><copyright>Copyright 2014, Federal Election Commission.</copyright><can_sum><lin_ima>http://www.fec.gov/fecviewer/CandidateCommitteeDetail.do?candidateCommitteeId=H4UT04052&amp;tabIndex=1</lin_ima><can_id>H4UT04052</can_id><can_nam>AALDERS, TIM</can_nam><can_off>H</can_off><can_off_sta>UT</can_off_sta><can_off_dis>04</can_off_dis><can_par_aff>IAP</can_par_aff><can_inc_cha_ope_sea>OPEN</can_inc_cha_ope_sea><can_str1>5306 WEST 10320 NORTH</can_str\n"
       ]
      }
     ],
     "prompt_number": 27
    },
    {
     "cell_type": "heading",
     "level": 3,
     "metadata": {},
     "source": [
      "Process the data into an XML Tree"
     ]
    },
    {
     "cell_type": "code",
     "collapsed": false,
     "input": [
      "for item in page[:10]:\n",
      "    print item.tag"
     ],
     "language": "python",
     "metadata": {},
     "outputs": [
      {
       "output_type": "stream",
       "stream": "stdout",
       "text": [
        "title\n",
        "description\n",
        "timestamp\n",
        "copyright\n",
        "can_sum\n",
        "can_sum\n",
        "can_sum\n",
        "can_sum\n",
        "can_sum\n",
        "can_sum\n"
       ]
      }
     ],
     "prompt_number": 28
    },
    {
     "cell_type": "markdown",
     "metadata": {},
     "source": [
      "Notice `<can_sum>` encapsulates the candidates data."
     ]
    },
    {
     "cell_type": "code",
     "collapsed": false,
     "input": [
      "for item in page.xpath(\"//can_sum\")[0]:\n",
      "    print \"<%s>%s</%s>\" % (item.tag, str(item.text), item.tag)"
     ],
     "language": "python",
     "metadata": {},
     "outputs": [
      {
       "output_type": "stream",
       "stream": "stdout",
       "text": [
        "<lin_ima>http://www.fec.gov/fecviewer/CandidateCommitteeDetail.do?candidateCommitteeId=H4UT04052&tabIndex=1</lin_ima>\n",
        "<can_id>H4UT04052</can_id>\n",
        "<can_nam>AALDERS, TIM</can_nam>\n",
        "<can_off>H</can_off>\n",
        "<can_off_sta>UT</can_off_sta>\n",
        "<can_off_dis>04</can_off_dis>\n",
        "<can_par_aff>IAP</can_par_aff>\n",
        "<can_inc_cha_ope_sea>OPEN</can_inc_cha_ope_sea>\n",
        "<can_str1>5306 WEST 10320 NORTH</can_str1>\n",
        "<can_str2>None</can_str2>\n",
        "<can_cit>HIGHLAND</can_cit>\n",
        "<can_sta>UT</can_sta>\n",
        "<can_zip>84003</can_zip>\n",
        "<ind_ite_con>None</ind_ite_con>\n",
        "<ind_uni_con>None</ind_uni_con>\n",
        "<ind_con>None</ind_con>\n",
        "<par_com_con>None</par_com_con>\n",
        "<oth_com_con>None</oth_com_con>\n",
        "<can_con>None</can_con>\n",
        "<tot_con>None</tot_con>\n",
        "<tra_fro_oth_aut_com>None</tra_fro_oth_aut_com>\n",
        "<can_loa>None</can_loa>\n",
        "<oth_loa>None</oth_loa>\n",
        "<tot_loa>None</tot_loa>\n",
        "<off_to_ope_exp>None</off_to_ope_exp>\n",
        "<off_to_fun>None</off_to_fun>\n",
        "<off_to_leg_acc>None</off_to_leg_acc>\n",
        "<oth_rec>None</oth_rec>\n",
        "<tot_rec>None</tot_rec>\n",
        "<ope_exp>None</ope_exp>\n",
        "<exe_leg_acc_dis>None</exe_leg_acc_dis>\n",
        "<fun_dis>None</fun_dis>\n",
        "<tra_to_oth_aut_com>None</tra_to_oth_aut_com>\n",
        "<can_loa_rep>None</can_loa_rep>\n",
        "<oth_loa_rep>None</oth_loa_rep>\n",
        "<tot_loa_rep>None</tot_loa_rep>\n",
        "<ind_ref>None</ind_ref>\n",
        "<par_com_ref>None</par_com_ref>\n",
        "<oth_com_ref>None</oth_com_ref>\n",
        "<tot_con_ref>None</tot_con_ref>\n",
        "<oth_dis>None</oth_dis>\n",
        "<tot_dis>None</tot_dis>\n",
        "<cas_on_han_beg_of_per>None</cas_on_han_beg_of_per>\n",
        "<cas_on_han_clo_of_per>None</cas_on_han_clo_of_per>\n",
        "<net_con>None</net_con>\n",
        "<net_ope_exp>None</net_ope_exp>\n",
        "<deb_owe_by_com>None</deb_owe_by_com>\n",
        "<deb_owe_to_com>None</deb_owe_to_com>\n",
        "<cov_sta_dat>None</cov_sta_dat>\n",
        "<cov_end_dat>None</cov_end_dat>\n"
       ]
      }
     ],
     "prompt_number": 29
    },
    {
     "cell_type": "code",
     "collapsed": false,
     "input": [
      "cand_list = [cand for cand in page.xpath(\"//can_sum\") if cand.xpath(\"can_off\")[0].text==\"S\"]\n",
      "lin_ima = [cand.xpath(\"lin_ima\")[0].text for cand in cand_list]\n",
      "len(lin_ima)"
     ],
     "language": "python",
     "metadata": {},
     "outputs": [
      {
       "metadata": {},
       "output_type": "pyout",
       "prompt_number": 30,
       "text": [
        "412"
       ]
      }
     ],
     "prompt_number": 30
    },
    {
     "cell_type": "heading",
     "level": 3,
     "metadata": {},
     "source": [
      "Store data into Pandas Data Frame"
     ]
    },
    {
     "cell_type": "code",
     "collapsed": false,
     "input": [
      "senate_cadidate = pd.DataFrame(lin_ima, columns=[\"lin_ima\"])\n",
      "senate_cadidate[\"can_id\"] = [cand.xpath(\"can_id\")[0].text for cand in cand_list]\n",
      "senate_cadidate[\"can_nam\"] = [cand.xpath(\"can_nam\")[0].text for cand in cand_list]\n",
      "senate_cadidate[\"can_off\"] = [cand.xpath(\"can_off\")[0].text for cand in cand_list]\n",
      "senate_cadidate[\"can_off_sta\"] = [cand.xpath(\"can_off_sta\")[0].text for cand in cand_list]\n",
      "senate_cadidate[\"can_par_aff\"] = [cand.xpath(\"can_par_aff\")[0].text for cand in cand_list]\n",
      "senate_cadidate[\"can_inc_cha_ope_sea\"] = [cand.xpath(\"can_inc_cha_ope_sea\")[0].text for cand in cand_list]\n",
      "senate_cadidate[\"ind_ite_con\"] = [cand.xpath(\"ind_ite_con\")[0].text for cand in cand_list]\n",
      "senate_cadidate[\"ind_uni_con\"] = [cand.xpath(\"ind_uni_con\")[0].text for cand in cand_list]\n",
      "senate_cadidate[\"ind_con\"] = [cand.xpath(\"ind_con\")[0].text for cand in cand_list]\n",
      "senate_cadidate[\"par_com_con\"] = [cand.xpath(\"par_com_con\")[0].text for cand in cand_list]\n",
      "senate_cadidate[\"oth_com_con\"] = [cand.xpath(\"oth_com_con\")[0].text for cand in cand_list]\n",
      "senate_cadidate[\"can_con\"] = [cand.xpath(\"can_con\")[0].text for cand in cand_list]\n",
      "senate_cadidate[\"tot_con\"] = [cand.xpath(\"tot_con\")[0].text for cand in cand_list]\n",
      "senate_cadidate[\"tra_fro_oth_aut_com\"] = [cand.xpath(\"tra_fro_oth_aut_com\")[0].text for cand in cand_list]\n",
      "senate_cadidate[\"can_loa\"] = [cand.xpath(\"can_loa\")[0].text for cand in cand_list]\n",
      "senate_cadidate[\"oth_loa\"] = [cand.xpath(\"oth_loa\")[0].text for cand in cand_list]\n",
      "senate_cadidate[\"tot_loa\"] = [cand.xpath(\"tot_loa\")[0].text for cand in cand_list]\n",
      "senate_cadidate[\"off_to_ope_exp\"] = [cand.xpath(\"off_to_ope_exp\")[0].text for cand in cand_list]\n",
      "senate_cadidate[\"off_to_fun\"] = [cand.xpath(\"off_to_fun\")[0].text for cand in cand_list]\n",
      "senate_cadidate[\"off_to_leg_acc\"] = [cand.xpath(\"off_to_leg_acc\")[0].text for cand in cand_list]\n",
      "senate_cadidate[\"oth_rec\"] = [cand.xpath(\"oth_rec\")[0].text for cand in cand_list]\n",
      "senate_cadidate[\"tot_rec\"] = [cand.xpath(\"tot_rec\")[0].text for cand in cand_list]\n",
      "senate_cadidate[\"ope_exp\"] = [cand.xpath(\"ope_exp\")[0].text for cand in cand_list]\n",
      "senate_cadidate[\"fun_dis\"] = [cand.xpath(\"fun_dis\")[0].text for cand in cand_list]\n",
      "senate_cadidate[\"exe_leg_acc_dis\"] = [cand.xpath(\"exe_leg_acc_dis\")[0].text for cand in cand_list]\n",
      "senate_cadidate[\"tra_to_oth_aut_com\"] = [cand.xpath(\"tra_to_oth_aut_com\")[0].text for cand in cand_list]\n",
      "senate_cadidate[\"can_loa_rep\"] = [cand.xpath(\"can_loa_rep\")[0].text for cand in cand_list]\n",
      "senate_cadidate[\"oth_loa_rep\"] = [cand.xpath(\"oth_loa_rep\")[0].text for cand in cand_list]\n",
      "senate_cadidate[\"tot_loa_rep\"] = [cand.xpath(\"tot_loa_rep\")[0].text for cand in cand_list]\n",
      "senate_cadidate[\"ind_ref\"] = [cand.xpath(\"ind_ref\")[0].text for cand in cand_list]\n",
      "senate_cadidate[\"par_com_ref\"] = [cand.xpath(\"par_com_ref\")[0].text for cand in cand_list]\n",
      "senate_cadidate[\"oth_com_ref\"] = [cand.xpath(\"oth_com_ref\")[0].text for cand in cand_list]\n",
      "senate_cadidate[\"tot_con_ref\"] = [cand.xpath(\"tot_con_ref\")[0].text for cand in cand_list]\n",
      "senate_cadidate[\"oth_dis\"] = [cand.xpath(\"oth_dis\")[0].text for cand in cand_list]\n",
      "senate_cadidate[\"tot_dis\"] = [cand.xpath(\"tot_dis\")[0].text for cand in cand_list]\n",
      "senate_cadidate[\"cas_on_han_beg_of_per\"] = [cand.xpath(\"cas_on_han_beg_of_per\")[0].text for cand in cand_list]\n",
      "senate_cadidate[\"cas_on_han_clo_of_per\"] = [cand.xpath(\"cas_on_han_clo_of_per\")[0].text for cand in cand_list]\n",
      "senate_cadidate[\"net_con\"] = [cand.xpath(\"net_con\")[0].text for cand in cand_list]\n",
      "senate_cadidate[\"net_ope_exp\"] = [cand.xpath(\"net_ope_exp\")[0].text for cand in cand_list]\n",
      "senate_cadidate[\"deb_owe_by_com\"] = [cand.xpath(\"deb_owe_by_com\")[0].text for cand in cand_list]\n",
      "senate_cadidate[\"deb_owe_to_com\"] = [cand.xpath(\"deb_owe_to_com\")[0].text for cand in cand_list]\n",
      "senate_cadidate[\"cov_sta_dat\"] = [cand.xpath(\"cov_sta_dat\")[0].text for cand in cand_list]\n",
      "senate_cadidate[\"cov_end_dat\"] = [cand.xpath(\"cov_end_dat\")[0].text for cand in cand_list]\n",
      "senate_cadidate"
     ],
     "language": "python",
     "metadata": {},
     "outputs": [
      {
       "html": [
        "<pre>\n",
        "&lt;class 'pandas.core.frame.DataFrame'&gt;\n",
        "Int64Index: 412 entries, 0 to 411\n",
        "Data columns (total 44 columns):\n",
        "lin_ima                  412  non-null values\n",
        "can_id                   412  non-null values\n",
        "can_nam                  412  non-null values\n",
        "can_off                  412  non-null values\n",
        "can_off_sta              412  non-null values\n",
        "can_par_aff              412  non-null values\n",
        "can_inc_cha_ope_sea      411  non-null values\n",
        "ind_ite_con              197  non-null values\n",
        "ind_uni_con              186  non-null values\n",
        "ind_con                  204  non-null values\n",
        "par_com_con              37  non-null values\n",
        "oth_com_con              116  non-null values\n",
        "can_con                  101  non-null values\n",
        "tot_con                  220  non-null values\n",
        "tra_fro_oth_aut_com      61  non-null values\n",
        "can_loa                  103  non-null values\n",
        "oth_loa                  11  non-null values\n",
        "tot_loa                  102  non-null values\n",
        "off_to_ope_exp           104  non-null values\n",
        "off_to_fun               0  non-null values\n",
        "off_to_leg_acc           0  non-null values\n",
        "oth_rec                  76  non-null values\n",
        "tot_rec                  223  non-null values\n",
        "ope_exp                  221  non-null values\n",
        "fun_dis                  0  non-null values\n",
        "exe_leg_acc_dis          0  non-null values\n",
        "tra_to_oth_aut_com       22  non-null values\n",
        "can_loa_rep              34  non-null values\n",
        "oth_loa_rep              4  non-null values\n",
        "tot_loa_rep              38  non-null values\n",
        "ind_ref                  117  non-null values\n",
        "par_com_ref              4  non-null values\n",
        "oth_com_ref              47  non-null values\n",
        "tot_con_ref              121  non-null values\n",
        "oth_dis                  86  non-null values\n",
        "tot_dis                  221  non-null values\n",
        "cas_on_han_beg_of_per    69  non-null values\n",
        "cas_on_han_clo_of_per    192  non-null values\n",
        "net_con                  215  non-null values\n",
        "net_ope_exp              217  non-null values\n",
        "deb_owe_by_com           108  non-null values\n",
        "deb_owe_to_com           4  non-null values\n",
        "cov_sta_dat              231  non-null values\n",
        "cov_end_dat              231  non-null values\n",
        "dtypes: object(44)\n",
        "</pre>"
       ],
       "metadata": {},
       "output_type": "pyout",
       "prompt_number": 31,
       "text": [
        "<class 'pandas.core.frame.DataFrame'>\n",
        "Int64Index: 412 entries, 0 to 411\n",
        "Data columns (total 44 columns):\n",
        "lin_ima                  412  non-null values\n",
        "can_id                   412  non-null values\n",
        "can_nam                  412  non-null values\n",
        "can_off                  412  non-null values\n",
        "can_off_sta              412  non-null values\n",
        "can_par_aff              412  non-null values\n",
        "can_inc_cha_ope_sea      411  non-null values\n",
        "ind_ite_con              197  non-null values\n",
        "ind_uni_con              186  non-null values\n",
        "ind_con                  204  non-null values\n",
        "par_com_con              37  non-null values\n",
        "oth_com_con              116  non-null values\n",
        "can_con                  101  non-null values\n",
        "tot_con                  220  non-null values\n",
        "tra_fro_oth_aut_com      61  non-null values\n",
        "can_loa                  103  non-null values\n",
        "oth_loa                  11  non-null values\n",
        "tot_loa                  102  non-null values\n",
        "off_to_ope_exp           104  non-null values\n",
        "off_to_fun               0  non-null values\n",
        "off_to_leg_acc           0  non-null values\n",
        "oth_rec                  76  non-null values\n",
        "tot_rec                  223  non-null values\n",
        "ope_exp                  221  non-null values\n",
        "fun_dis                  0  non-null values\n",
        "exe_leg_acc_dis          0  non-null values\n",
        "tra_to_oth_aut_com       22  non-null values\n",
        "can_loa_rep              34  non-null values\n",
        "oth_loa_rep              4  non-null values\n",
        "tot_loa_rep              38  non-null values\n",
        "ind_ref                  117  non-null values\n",
        "par_com_ref              4  non-null values\n",
        "oth_com_ref              47  non-null values\n",
        "tot_con_ref              121  non-null values\n",
        "oth_dis                  86  non-null values\n",
        "tot_dis                  221  non-null values\n",
        "cas_on_han_beg_of_per    69  non-null values\n",
        "cas_on_han_clo_of_per    192  non-null values\n",
        "net_con                  215  non-null values\n",
        "net_ope_exp              217  non-null values\n",
        "deb_owe_by_com           108  non-null values\n",
        "deb_owe_to_com           4  non-null values\n",
        "cov_sta_dat              231  non-null values\n",
        "cov_end_dat              231  non-null values\n",
        "dtypes: object(44)"
       ]
      }
     ],
     "prompt_number": 31
    },
    {
     "cell_type": "heading",
     "level": 1,
     "metadata": {},
     "source": [
      "Retrieive YouTube Data for All Candidates"
     ]
    },
    {
     "cell_type": "code",
     "collapsed": false,
     "input": [
      "def get_state_data(candidates):\n",
      "    data_set = get_2014_data(candidates)\n",
      "    t_ds = pd.pivot_table(data_set, values=[\"commentCount\", \"favoriteCount\", \"dislikeCount\", \"likeCount\", \"viewCount\"],\n",
      "                   aggfunc='sum', rows=\"candidate_name\")\n",
      "    t_ds[\"like_dislike_r\"] = t_ds[\"likeCount\"] / (t_ds[\"dislikeCount\"] + t_ds[\"likeCount\"])\n",
      "    t_ds[\"views_share\"] = t_ds[\"viewCount\"] / t_ds[\"viewCount\"].sum()\n",
      "    t_ds[\"msgs_share\"] = t_ds[\"commentCount\"] / t_ds[\"commentCount\"].sum()\n",
      "    t_ds[\"likes_share\"] = t_ds[\"likeCount\"] / t_ds[\"likeCount\"].sum()\n",
      "    t_ds[\"dislikes_share\"] = t_ds[\"dislikeCount\"] / t_ds[\"dislikeCount\"].sum()\n",
      "    print t_ds\n",
      "    return t_ds\n",
      "\n",
      "def fix_name(val_name):\n",
      "    val_names = val_name.split(\", \")\n",
      "    return \"%s %s\" % (val_names[1].split(\" \")[0].capitalize(), val_names[0].capitalize())"
     ],
     "language": "python",
     "metadata": {},
     "outputs": [],
     "prompt_number": 32
    },
    {
     "cell_type": "code",
     "collapsed": false,
     "input": [
      "values_list = []\n",
      "for index, state in zip(class_2_senators.index, class_2_senators[\"state\"]):\n",
      "    print \"%s: %s\" % (state,\n",
      "                           class_2_senators[\"member_full\"][index])\n",
      "    candidates = senate_cadidate[senate_cadidate[\"can_off_sta\"]==state]\n",
      "    candidates = candidates[~senate_cadidate[\"tot_rec\"].isnull()]\n",
      "    candidates[\"tot_rec_num\"] = candidates[\"tot_rec\"].apply(lambda x: x[1:].replace(\",\",\"\")).astype(np.float64)\n",
      "    top_candidates = candidates.sort(\"tot_rec_num\", ascending=False)[:2][[\"can_nam\",\n",
      "                                                                      \"can_par_aff\",\n",
      "                                                                      \"can_inc_cha_ope_sea\",\n",
      "                                                                      \"tot_rec_num\",\n",
      "                                                                      \"can_off_sta\"]]\n",
      "    print [fix_name(name) for name in top_candidates.values[:,0]]\n",
      "    try:\n",
      "        ds = get_state_data([fix_name(name) for name in top_candidates.values[:,0]])\n",
      "        ds[\"state\"] = state\n",
      "        ds[\"party\"] = top_candidates[\"can_par_aff\"].values\n",
      "        ds[\"donations\"] = top_candidates[\"tot_rec_num\"].values\n",
      "        values_list.append(ds)\n",
      "    except:\n",
      "        print \"NA\"\n",
      "        \n",
      "        \n",
      "sentate_2014 = pd.concat(values_list)\n",
      "sentate_2014"
     ],
     "language": "python",
     "metadata": {},
     "outputs": [
      {
       "output_type": "stream",
       "stream": "stdout",
       "text": [
        "AK: Begich (D-AK)\n",
        "['Mark Begich', 'Dan Sullivan']\n",
        "                commentCount  dislikeCount  favoriteCount  likeCount  viewCount  like_dislike_r  views_share  \\\n",
        "candidate_name                                                                                                 \n",
        "Dan Sullivan             360            94              0        623     165715        0.868898     0.613568   \n",
        "Mark Begich               82            96              0        181     104369        0.653430     0.386432   \n",
        "\n",
        "                msgs_share  likes_share  dislikes_share  \n",
        "candidate_name                                           \n",
        "Dan Sullivan       0.81448     0.774876        0.494737  \n",
        "Mark Begich        0.18552     0.225124        0.505263  "
       ]
      },
      {
       "output_type": "stream",
       "stream": "stdout",
       "text": [
        "\n",
        "AL: Sessions (R-AL)\n",
        "['Jeff Sessions']\n",
        "                commentCount  dislikeCount  favoriteCount  likeCount  viewCount  like_dislike_r  views_share  \\\n",
        "candidate_name                                                                                                 \n",
        "Jeff Sessions            142            10              0         36       5114        0.782609            1   \n",
        "\n",
        "                msgs_share  likes_share  dislikes_share  \n",
        "candidate_name                                           \n",
        "Jeff Sessions            1            1               1  "
       ]
      },
      {
       "output_type": "stream",
       "stream": "stdout",
       "text": [
        "\n",
        "AR: Pryor (D-AR)\n",
        "['Mark Pryor', 'Thomas Cotton']\n",
        "                commentCount  dislikeCount  favoriteCount  likeCount  viewCount  like_dislike_r  views_share  \\\n",
        "candidate_name                                                                                                 \n",
        "Mark Pryor               130            35              0        168     181729        0.827586     0.185504   \n",
        "Thomas Cotton            100            91              0        195     797919        0.681818     0.814496   \n",
        "\n",
        "                msgs_share  likes_share  dislikes_share  \n",
        "candidate_name                                           \n",
        "Mark Pryor        0.565217      0.46281        0.277778  \n",
        "Thomas Cotton     0.434783      0.53719        0.722222  "
       ]
      },
      {
       "output_type": "stream",
       "stream": "stdout",
       "text": [
        "\n",
        "CO: Udall (D-CO)\n",
        "['Mark Udall', 'Cory Gardner']\n",
        "                commentCount  dislikeCount  favoriteCount  likeCount  viewCount  like_dislike_r  views_share  \\\n",
        "candidate_name                                                                                                 \n",
        "Cory Gardner             316           167              0        450     234223        0.729335     0.628876   \n",
        "Mark Udall               183           456              0        398     138224        0.466042     0.371124   \n",
        "\n",
        "                msgs_share  likes_share  dislikes_share  \n",
        "candidate_name                                           \n",
        "Cory Gardner      0.633267      0.53066        0.268058  \n",
        "Mark Udall        0.366733      0.46934        0.731942  "
       ]
      },
      {
       "output_type": "stream",
       "stream": "stdout",
       "text": [
        "\n",
        "DE: Coons (D-DE)\n",
        "['Christopher Coons', 'Kevin Wade']\n",
        "                   commentCount  dislikeCount  favoriteCount  likeCount  viewCount  like_dislike_r  views_share  \\\n",
        "candidate_name                                                                                                    \n",
        "Christopher Coons           190            20              0        110      19950        0.846154     0.559278   \n",
        "Kevin Wade                  113            30              0        180      15721        0.857143     0.440722   \n",
        "\n",
        "                   msgs_share  likes_share  dislikes_share  \n",
        "candidate_name                                              \n",
        "Christopher Coons    0.627063      0.37931             0.4  \n",
        "Kevin Wade           0.372937      0.62069             0.6  "
       ]
      },
      {
       "output_type": "stream",
       "stream": "stdout",
       "text": [
        "\n",
        "GA: Chambliss (R-GA)\n",
        "['Mary Nunn', 'John Kingston']\n",
        "                commentCount  dislikeCount  favoriteCount  likeCount  viewCount  like_dislike_r  views_share  \\\n",
        "candidate_name                                                                                                 \n",
        "John Kingston             37             2              0         17        717        0.894737     0.540724   \n",
        "Mary Nunn                 45             0              0         21        609        1.000000     0.459276   \n",
        "\n",
        "                msgs_share  likes_share  dislikes_share  \n",
        "candidate_name                                           \n",
        "John Kingston      0.45122     0.447368               1  \n",
        "Mary Nunn          0.54878     0.552632               0  "
       ]
      },
      {
       "output_type": "stream",
       "stream": "stdout",
       "text": [
        "\n",
        "IA: Harkin (D-IA)\n",
        "['Bruce Braley', 'Mark Jacobs']\n",
        "                commentCount  dislikeCount  favoriteCount  likeCount  viewCount  like_dislike_r  views_share  \\\n",
        "candidate_name                                                                                                 \n",
        "Bruce Braley             309            76              0        281      88397        0.787115     0.056942   \n",
        "Mark Jacobs             7334          1052              0      66064    1464016        0.984326     0.943058   \n",
        "\n",
        "                msgs_share  likes_share  dislikes_share  \n",
        "candidate_name                                           \n",
        "Bruce Braley      0.040429     0.004235        0.067376  \n",
        "Mark Jacobs       0.959571     0.995765        0.932624  "
       ]
      },
      {
       "output_type": "stream",
       "stream": "stdout",
       "text": [
        "\n",
        "ID: Risch (R-ID)\n",
        "['James Risch', 'Briane Mitchell']\n",
        "NA"
       ]
      },
      {
       "output_type": "stream",
       "stream": "stdout",
       "text": [
        "\n",
        "IL: Durbin (D-IL)\n",
        "['Richard Durbin', 'James Oberweis']\n",
        "NA"
       ]
      },
      {
       "output_type": "stream",
       "stream": "stdout",
       "text": [
        "\n",
        "KS: Roberts (R-KS)\n",
        "['Pat Roberts', 'Milton Wolf']\n",
        "                commentCount  dislikeCount  favoriteCount  likeCount  viewCount  like_dislike_r  views_share  \\\n",
        "candidate_name                                                                                                 \n",
        "Milton Wolf               93            25              0         56       5809        0.691358     0.056133   \n",
        "Pat Roberts              256            83              0        374      97678        0.818381     0.943867   \n",
        "\n",
        "                msgs_share  likes_share  dislikes_share  \n",
        "candidate_name                                           \n",
        "Milton Wolf       0.266476     0.130233        0.231481  \n",
        "Pat Roberts       0.733524     0.869767        0.768519  "
       ]
      },
      {
       "output_type": "stream",
       "stream": "stdout",
       "text": [
        "\n",
        "KY: McConnell (R-KY)\n",
        "['Mitch Mcconnell', 'Alison Grimes']\n",
        "                 commentCount  dislikeCount  favoriteCount  likeCount  viewCount  like_dislike_r  views_share  \\\n",
        "candidate_name                                                                                                  \n",
        "Alison Grimes            1278           363              0       2673     675905        0.880435     0.430792   \n",
        "Mitch Mcconnell          2197           272              0       4760     893077        0.945946     0.569208   \n",
        "\n",
        "                 msgs_share  likes_share  dislikes_share  \n",
        "candidate_name                                            \n",
        "Alison Grimes       0.36777     0.359613        0.571654  \n",
        "Mitch Mcconnell     0.63223     0.640387        0.428346  "
       ]
      },
      {
       "output_type": "stream",
       "stream": "stdout",
       "text": [
        "\n",
        "LA: Landrieu (D-LA)\n",
        "['Mary Landrieu', 'William Cassidy']\n",
        "                 commentCount  dislikeCount  favoriteCount  likeCount  viewCount  like_dislike_r  views_share  \\\n",
        "candidate_name                                                                                                  \n",
        "Mary Landrieu             745            84              0       2015     395161        0.959981     0.986888   \n",
        "William Cassidy            50             0              0         60       5250        1.000000     0.013112   \n",
        "\n",
        "                 msgs_share  likes_share  dislikes_share  \n",
        "candidate_name                                            \n",
        "Mary Landrieu      0.937107     0.971084               1  \n",
        "William Cassidy    0.062893     0.028916               0  "
       ]
      },
      {
       "output_type": "stream",
       "stream": "stdout",
       "text": [
        "\n",
        "MA: Markey (D-MA)\n",
        "['Edward Markey', 'Gabriel Gomez']\n",
        "                commentCount  dislikeCount  favoriteCount  likeCount  viewCount  like_dislike_r  views_share  \\\n",
        "candidate_name                                                                                                 \n",
        "Edward Markey              0            10              0         70       7882        0.875000     0.004229   \n",
        "Gabriel Gomez            899           514              0       1239    1855996        0.706788     0.995771   \n",
        "\n",
        "                msgs_share  likes_share  dislikes_share  \n",
        "candidate_name                                           \n",
        "Edward Markey            0     0.053476        0.019084  \n",
        "Gabriel Gomez            1     0.946524        0.980916  "
       ]
      },
      {
       "output_type": "stream",
       "stream": "stdout",
       "text": [
        "\n",
        "ME: Collins (R-ME)\n",
        "['Susan Collins', 'Shenna Bellows']\n",
        "                commentCount  dislikeCount  favoriteCount  likeCount  viewCount  like_dislike_r  views_share  \\\n",
        "candidate_name                                                                                                 \n",
        "Shenna Bellows            42             0              0          6      57603           1.000     0.165203   \n",
        "Susan Collins             81             9              0        351     291078           0.975     0.834797   \n",
        "\n",
        "                msgs_share  likes_share  dislikes_share  \n",
        "candidate_name                                           \n",
        "Shenna Bellows    0.341463     0.016807               0  \n",
        "Susan Collins     0.658537     0.983193               1  "
       ]
      },
      {
       "output_type": "stream",
       "stream": "stdout",
       "text": [
        "\n",
        "MI: Levin (D-MI)\n",
        "['Terri Land', 'Gary Peters']\n",
        "                commentCount  dislikeCount  favoriteCount  likeCount  viewCount  like_dislike_r  views_share  \\\n",
        "candidate_name                                                                                                 \n",
        "Gary Peters               80            50              0        460      36270        0.901961     0.011649   \n",
        "Terri Land               110           560              0       1660    3077280        0.747748     0.988351   \n",
        "\n",
        "                msgs_share  likes_share  dislikes_share  \n",
        "candidate_name                                           \n",
        "Gary Peters       0.421053     0.216981        0.081967  \n",
        "Terri Land        0.578947     0.783019        0.918033  "
       ]
      },
      {
       "output_type": "stream",
       "stream": "stdout",
       "text": [
        "\n",
        "MN: Franken (D-MN)\n",
        "['Al Franken', 'Michael Mcfadden']\n",
        "                  commentCount  dislikeCount  favoriteCount  likeCount  viewCount  like_dislike_r  views_share  \\\n",
        "candidate_name                                                                                                   \n",
        "Al Franken                 141            71              0        208     260800         0.74552     0.897435   \n",
        "Michael Mcfadden            44            40              0         68      29806         0.62963     0.102565   \n",
        "\n",
        "                  msgs_share  likes_share  dislikes_share  \n",
        "candidate_name                                             \n",
        "Al Franken          0.762162     0.753623         0.63964  \n",
        "Michael Mcfadden    0.237838     0.246377         0.36036  "
       ]
      },
      {
       "output_type": "stream",
       "stream": "stdout",
       "text": [
        "\n",
        "MS: Cochran (R-MS)\n",
        "['Thad Cochran', 'Christopher Mcdaniel']\n",
        "                      commentCount  dislikeCount  favoriteCount  likeCount  viewCount  like_dislike_r  views_share  \\\n",
        "candidate_name                                                                                                       \n",
        "Christopher Mcdaniel             0             0              0          4        700        1.000000     0.044028   \n",
        "Thad Cochran                    74            10              0         35      15199        0.777778     0.955972   \n",
        "\n",
        "                      msgs_share  likes_share  dislikes_share  \n",
        "candidate_name                                                 \n",
        "Christopher Mcdaniel           0     0.102564               0  \n",
        "Thad Cochran                   1     0.897436               1  "
       ]
      },
      {
       "output_type": "stream",
       "stream": "stdout",
       "text": [
        "\n",
        "MT: Walsh (D-MT)\n",
        "['Steven Daines', 'John Walsh']\n",
        "NA"
       ]
      },
      {
       "output_type": "stream",
       "stream": "stdout",
       "text": [
        "\n",
        "NC: Hagan (D-NC)\n",
        "['Kay Hagan', 'Thom Tillis']\n",
        "                commentCount  dislikeCount  favoriteCount  likeCount  viewCount  like_dislike_r  views_share  \\\n",
        "candidate_name                                                                                                 \n",
        "Kay Hagan                257           119              0        232      41723        0.660969      0.04969   \n",
        "Thom Tillis              253           194              0        586     797943        0.751282      0.95031   \n",
        "\n",
        "                msgs_share  likes_share  dislikes_share  \n",
        "candidate_name                                           \n",
        "Kay Hagan         0.503922     0.283619        0.380192  \n",
        "Thom Tillis       0.496078     0.716381        0.619808  "
       ]
      },
      {
       "output_type": "stream",
       "stream": "stdout",
       "text": [
        "\n",
        "NE: Johanns (R-NE)\n",
        "['Benjamin Sasse', 'Sid Dinsdale']\n",
        "NA"
       ]
      },
      {
       "output_type": "stream",
       "stream": "stdout",
       "text": [
        "\n",
        "NH: Shaheen (D-NH)\n",
        "['Jeanne Shaheen', 'Scott Brown']\n",
        "                commentCount  dislikeCount  favoriteCount  likeCount  viewCount  like_dislike_r  views_share  \\\n",
        "candidate_name                                                                                                 \n",
        "Jeanne Shaheen            26            33              0         83      35197        0.715517     0.083044   \n",
        "Scott Brown              708            92              0       2456     388637        0.963893     0.916956   \n",
        "\n",
        "                msgs_share  likes_share  dislikes_share  \n",
        "candidate_name                                           \n",
        "Jeanne Shaheen    0.035422      0.03269           0.264  \n",
        "Scott Brown       0.964578      0.96731           0.736  "
       ]
      },
      {
       "output_type": "stream",
       "stream": "stdout",
       "text": [
        "\n",
        "NJ: Booker (D-NJ)\n",
        "['Cory Booker', 'Frank Pallone']\n",
        "                commentCount  dislikeCount  favoriteCount  likeCount  viewCount  like_dislike_r  views_share  \\\n",
        "candidate_name                                                                                                 \n",
        "Cory Booker              355            60              0        894     130143        0.937107     0.998527   \n",
        "Frank Pallone              1             0              0          0        192             inf     0.001473   \n",
        "\n",
        "                msgs_share  likes_share  dislikes_share  \n",
        "candidate_name                                           \n",
        "Cory Booker       0.997191            1               1  \n",
        "Frank Pallone     0.002809            0               0  "
       ]
      },
      {
       "output_type": "stream",
       "stream": "stdout",
       "text": [
        "\n",
        "NM: Udall (D-NM)\n",
        "['Tom Udall', 'Allen Weh']\n",
        "                commentCount  dislikeCount  favoriteCount  likeCount  viewCount  like_dislike_r  views_share  \\\n",
        "candidate_name                                                                                                 \n",
        "Allen Weh                821            71              0        256    1949518        0.782875     0.987909   \n",
        "Tom Udall                700            30              0        660      23860        0.956522     0.012091   \n",
        "\n",
        "                msgs_share  likes_share  dislikes_share  \n",
        "candidate_name                                           \n",
        "Allen Weh         0.539776     0.279476         0.70297  \n",
        "Tom Udall         0.460224     0.720524         0.29703  "
       ]
      },
      {
       "output_type": "stream",
       "stream": "stdout",
       "text": [
        "\n",
        "OK: Inhofe (R-OK)\n",
        "['James Inhofe', 'James Lankford']\n",
        "                commentCount  dislikeCount  favoriteCount  likeCount  viewCount  like_dislike_r  views_share  \\\n",
        "candidate_name                                                                                                 \n",
        "James Inhofe            1905           406              0       2094     170226        0.837600     0.981288   \n",
        "James Lankford            62            14              0         34       3246        0.708333     0.018712   \n",
        "\n",
        "                msgs_share  likes_share  dislikes_share  \n",
        "candidate_name                                           \n",
        "James Inhofe       0.96848     0.984023        0.966667  \n",
        "James Lankford     0.03152     0.015977        0.033333  "
       ]
      },
      {
       "output_type": "stream",
       "stream": "stdout",
       "text": [
        "\n",
        "OR: Merkley (D-OR)\n",
        "['Jeffrey Merkley', 'Monica Wehby']\n",
        "                 commentCount  dislikeCount  favoriteCount  likeCount  viewCount  like_dislike_r  views_share  \\\n",
        "candidate_name                                                                                                  \n",
        "Jeffrey Merkley           124            36              0        336      40336        0.903226     0.297428   \n",
        "Monica Wehby              115           295              0        660      95280        0.691099     0.702572   \n",
        "\n",
        "                 msgs_share  likes_share  dislikes_share  \n",
        "candidate_name                                            \n",
        "Jeffrey Merkley    0.518828     0.337349        0.108761  \n",
        "Monica Wehby       0.481172     0.662651        0.891239  "
       ]
      },
      {
       "output_type": "stream",
       "stream": "stdout",
       "text": [
        "\n",
        "RI: Reed (D-RI)\n",
        "['Jack Reed', 'Mark Zaccaria']\n",
        "                commentCount  dislikeCount  favoriteCount  likeCount  viewCount  like_dislike_r  views_share  \\\n",
        "candidate_name                                                                                                 \n",
        "Jack Reed                 90             4              0        128      19412        0.969697     0.910763   \n",
        "Mark Zaccaria             14             0              0          4       1902        1.000000     0.089237   \n",
        "\n",
        "                msgs_share  likes_share  dislikes_share  \n",
        "candidate_name                                           \n",
        "Jack Reed         0.865385     0.969697               1  \n",
        "Mark Zaccaria     0.134615     0.030303               0  "
       ]
      },
      {
       "output_type": "stream",
       "stream": "stdout",
       "text": [
        "\n",
        "SC: Graham (R-SC)\n",
        "['Lindsey Graham', 'Timothy Scott']\n",
        "                commentCount  dislikeCount  favoriteCount  likeCount  viewCount  like_dislike_r  views_share  \\\n",
        "candidate_name                                                                                                 \n",
        "Lindsey Graham          1089           135              0       1412     119855        0.912734     0.891586   \n",
        "Timothy Scott            206             0              0        328      14574        1.000000     0.108414   \n",
        "\n",
        "                msgs_share  likes_share  dislikes_share  \n",
        "candidate_name                                           \n",
        "Lindsey Graham    0.840927     0.811494               1  \n",
        "Timothy Scott     0.159073     0.188506               0  "
       ]
      },
      {
       "output_type": "stream",
       "stream": "stdout",
       "text": [
        "\n",
        "SD: Johnson (D-SD)\n",
        "['Marion Rounds', 'Annette Bosworth']\n",
        "NA"
       ]
      },
      {
       "output_type": "stream",
       "stream": "stdout",
       "text": [
        "\n",
        "TN: Alexander (R-TN)\n",
        "['Lamar Alexander', 'George Flinn']\n",
        "                 commentCount  dislikeCount  favoriteCount  likeCount  viewCount  like_dislike_r  views_share  \\\n",
        "candidate_name                                                                                                  \n",
        "George Flinn              176            19              0         35       4362        0.648148     0.409462   \n",
        "Lamar Alexander            34             4              0         48       6291        0.923077     0.590538   \n",
        "\n",
        "                 msgs_share  likes_share  dislikes_share  \n",
        "candidate_name                                            \n",
        "George Flinn       0.838095     0.421687        0.826087  \n",
        "Lamar Alexander    0.161905     0.578313        0.173913  "
       ]
      },
      {
       "output_type": "stream",
       "stream": "stdout",
       "text": [
        "\n",
        "TX: Cornyn (R-TX)\n",
        "['John Cornyn', 'David Alameel']\n",
        "                commentCount  dislikeCount  favoriteCount  likeCount  viewCount  like_dislike_r  views_share  \\\n",
        "candidate_name                                                                                                 \n",
        "David Alameel              3             2              0          1         86        0.333333     0.004057   \n",
        "John Cornyn              166            20              0        260      21110        0.928571     0.995943   \n",
        "\n",
        "                msgs_share  likes_share  dislikes_share  \n",
        "candidate_name                                           \n",
        "David Alameel     0.017751     0.003831        0.090909  \n",
        "John Cornyn       0.982249     0.996169        0.909091  "
       ]
      },
      {
       "output_type": "stream",
       "stream": "stdout",
       "text": [
        "\n",
        "VA: Warner (D-VA)\n",
        "['Mark Warner', 'Edward Gillespie']\n",
        "NA"
       ]
      },
      {
       "output_type": "stream",
       "stream": "stdout",
       "text": [
        "\n",
        "WV: Rockefeller (D-WV)\n",
        "['Shelley Capito', 'Natalie Tennant']\n",
        "                 commentCount  dislikeCount  favoriteCount  likeCount  viewCount  like_dislike_r  views_share  \\\n",
        "candidate_name                                                                                                  \n",
        "Natalie Tennant           210           110              0        690     159430        0.862500     0.969238   \n",
        "Shelley Capito             34            16              0        100       5060        0.862069     0.030762   \n",
        "\n",
        "                 msgs_share  likes_share  dislikes_share  \n",
        "candidate_name                                            \n",
        "Natalie Tennant    0.860656     0.873418        0.873016  \n",
        "Shelley Capito     0.139344     0.126582        0.126984  "
       ]
      },
      {
       "output_type": "stream",
       "stream": "stdout",
       "text": [
        "\n",
        "WY: Enzi (R-WY)\n",
        "['Michael Enzi', 'Elizabeth Cheney']\n",
        "                  commentCount  dislikeCount  favoriteCount  likeCount  viewCount  like_dislike_r  views_share  \\\n",
        "candidate_name                                                                                                   \n",
        "Elizabeth Cheney            30             0              0         20       3900               1     0.722892   \n",
        "Michael Enzi                25             0              0         70       1495               1     0.277108   \n",
        "\n",
        "                  msgs_share  likes_share  dislikes_share  \n",
        "candidate_name                                             \n",
        "Elizabeth Cheney    0.545455     0.222222             inf  \n",
        "Michael Enzi        0.454545     0.777778             inf  "
       ]
      },
      {
       "output_type": "stream",
       "stream": "stdout",
       "text": [
        "\n"
       ]
      },
      {
       "html": [
        "<pre>\n",
        "&lt;class 'pandas.core.frame.DataFrame'&gt;\n",
        "Index: 53 entries, Dan Sullivan to Michael Enzi\n",
        "Data columns (total 13 columns):\n",
        "commentCount      53  non-null values\n",
        "dislikeCount      53  non-null values\n",
        "favoriteCount     53  non-null values\n",
        "likeCount         53  non-null values\n",
        "viewCount         53  non-null values\n",
        "like_dislike_r    53  non-null values\n",
        "views_share       53  non-null values\n",
        "msgs_share        53  non-null values\n",
        "likes_share       53  non-null values\n",
        "dislikes_share    53  non-null values\n",
        "state             53  non-null values\n",
        "party             53  non-null values\n",
        "donations         53  non-null values\n",
        "dtypes: float64(6), int64(5), object(2)\n",
        "</pre>"
       ],
       "metadata": {},
       "output_type": "pyout",
       "prompt_number": 33,
       "text": [
        "<class 'pandas.core.frame.DataFrame'>\n",
        "Index: 53 entries, Dan Sullivan to Michael Enzi\n",
        "Data columns (total 13 columns):\n",
        "commentCount      53  non-null values\n",
        "dislikeCount      53  non-null values\n",
        "favoriteCount     53  non-null values\n",
        "likeCount         53  non-null values\n",
        "viewCount         53  non-null values\n",
        "like_dislike_r    53  non-null values\n",
        "views_share       53  non-null values\n",
        "msgs_share        53  non-null values\n",
        "likes_share       53  non-null values\n",
        "dislikes_share    53  non-null values\n",
        "state             53  non-null values\n",
        "party             53  non-null values\n",
        "donations         53  non-null values\n",
        "dtypes: float64(6), int64(5), object(2)"
       ]
      }
     ],
     "prompt_number": 33
    },
    {
     "cell_type": "code",
     "collapsed": false,
     "input": [
      "x_column = \"views_share\"\n",
      "y_column = \"viewCount\"\n",
      "s_column = \"donations\"\n",
      "\n",
      "color_dict = {\"DEM\": \"b\", \"REP\": \"r\", \"IND\":\"g\", \"NPA\": \"g\", \"DFL\": \"g\"}\n",
      "            \n",
      "plt.figure(figsize=(18,12))\n",
      "\n",
      "for party in sentate_2014[\"party\"].unique():\n",
      "    cands = sentate_2014[sentate_2014[\"party\"]==party]\n",
      "    x = cands[x_column]\n",
      "    y = cands[y_column]\n",
      "    size = sentate_2014[sentate_2014[\"party\"]==party][s_column] / 3000000\n",
      "    plt.scatter(x,y, s=(np.array(size)) * 1000, c=color_dict[party], alpha=0.5)\n",
      "    \n",
      "print plt.ylim()[1]\n",
      "plt.vlines(0.5, ymin=1, ymax=plt.ylim()[1]*0.9)\n",
      "\n",
      "prejected_winners = sentate_2014[sentate_2014[x_column]>0.5][\"party\"].value_counts()\n",
      "\n",
      "prejected_winners = \"\\n\".join([\"%s:%s\" % (party, value) for party, value in zip(prejected_winners.index, prejected_winners.values)])\n",
      "\n",
      "plt.annotate(prejected_winners, xy=(.65,plt.ylim()[1]*0.8))\n",
      "\n",
      "plt.xlabel(x_column)\n",
      "plt.ylabel(y_column + \" (Log Scale)\")\n",
      "plt.grid()\n",
      "plt.yscale(\"log\")\n",
      "#plt.axis(\"tight\")\n",
      "plt.show()"
     ],
     "language": "python",
     "metadata": {},
     "outputs": [
      {
       "output_type": "stream",
       "stream": "stdout",
       "text": [
        "3500000.0\n"
       ]
      },
      {
       "metadata": {},
       "output_type": "display_data",
       "png": "[encoded data removed]",
       "text": [
        "<matplotlib.figure.Figure at 0x7ff078834650>"
       ]
      }
     ],
     "prompt_number": 34
    },
    {
     "cell_type": "heading",
     "level": 1,
     "metadata": {},
     "source": [
      "Check 2012 Senate Elections"
     ]
    },
    {
     "cell_type": "code",
     "collapsed": false,
     "input": [
      "def get_state_data(candidates):\n",
      "    data_set = get_2012_data(candidates)\n",
      "    t_ds = pd.pivot_table(data_set, values=[\"commentCount\", \"favoriteCount\", \"dislikeCount\", \"likeCount\", \"viewCount\"],\n",
      "                   aggfunc='sum', rows=\"candidate_name\")\n",
      "    t_ds[\"like_dislike_r\"] = t_ds[\"likeCount\"] / (t_ds[\"dislikeCount\"] + t_ds[\"likeCount\"])\n",
      "    t_ds[\"views_share\"] = t_ds[\"viewCount\"] / t_ds[\"viewCount\"].sum()\n",
      "    t_ds[\"msgs_share\"] = t_ds[\"commentCount\"] / t_ds[\"commentCount\"].sum()\n",
      "    t_ds[\"likes_share\"] = t_ds[\"likeCount\"] / t_ds[\"likeCount\"].sum()\n",
      "    t_ds[\"dislikes_share\"] = t_ds[\"dislikeCount\"] / t_ds[\"dislikeCount\"].sum()\n",
      "    # Sentemate Analysis of the title\n",
      "    t_ds[\"sentiment\"] = pd.Series()\n",
      "    for cand in candidates:\n",
      "        t_ds[\"sentiment\"][cand] = np.mean(\n",
      "                                    [TextBlob(title).polarity for title in data_set[data_set[\"candidate_name\"]==cand][\"title\"]]\n",
      "                                         )\n",
      "    \n",
      "    print t_ds\n",
      "    return t_ds"
     ],
     "language": "python",
     "metadata": {},
     "outputs": [],
     "prompt_number": 35
    },
    {
     "cell_type": "code",
     "collapsed": false,
     "input": [
      "senate_2012 = pd.read_csv(\"data/2012_senate_results.csv\")\n",
      "senate_2012[\"Full Name\"] = senate_2012[\"First Name\"] + \" \"  + senate_2012[\"Last Name\"]\n",
      "senate_2012"
     ],
     "language": "python",
     "metadata": {},
     "outputs": [
      {
       "html": [
        "<pre>\n",
        "&lt;class 'pandas.core.frame.DataFrame'&gt;\n",
        "Int64Index: 126 entries, 0 to 125\n",
        "Data columns (total 9 columns):\n",
        "State Postal    126  non-null values\n",
        "County Name     126  non-null values\n",
        "Party           126  non-null values\n",
        "First Name      126  non-null values\n",
        "Last Name       126  non-null values\n",
        "Incumbent       126  non-null values\n",
        "Vote Count      126  non-null values\n",
        "Winner          33  non-null values\n",
        "Full Name       126  non-null values\n",
        "dtypes: int64(2), object(7)\n",
        "</pre>"
       ],
       "metadata": {},
       "output_type": "pyout",
       "prompt_number": 36,
       "text": [
        "<class 'pandas.core.frame.DataFrame'>\n",
        "Int64Index: 126 entries, 0 to 125\n",
        "Data columns (total 9 columns):\n",
        "State Postal    126  non-null values\n",
        "County Name     126  non-null values\n",
        "Party           126  non-null values\n",
        "First Name      126  non-null values\n",
        "Last Name       126  non-null values\n",
        "Incumbent       126  non-null values\n",
        "Vote Count      126  non-null values\n",
        "Winner          33  non-null values\n",
        "Full Name       126  non-null values\n",
        "dtypes: int64(2), object(7)"
       ]
      }
     ],
     "prompt_number": 36
    },
    {
     "cell_type": "code",
     "collapsed": false,
     "input": [
      "senate_2012[\"commentCount\"] = pd.Series()\n",
      "senate_2012[\"dislikeCount\"] = pd.Series()\n",
      "senate_2012[\"favoriteCount\"] = pd.Series()\n",
      "senate_2012[\"likeCount\"] = pd.Series()\n",
      "senate_2012[\"viewCount\"] = pd.Series()\n",
      "senate_2012[\"like_dislike_r\"] = pd.Series()\n",
      "senate_2012[\"views_share\"] = pd.Series()\n",
      "senate_2012[\"msgs_share\"] = pd.Series()\n",
      "senate_2012[\"likes_share\"] = pd.Series()\n",
      "senate_2012[\"dislikes_share\"] = pd.Series()\n",
      "senate_2012[\"sentiment\"] = pd.Series()\n",
      "\n",
      "for state in np.unique(senate_2012[\"State Postal\"]):\n",
      "    print state + \":\"\n",
      "    cands = senate_2012[senate_2012[\"State Postal\"] == state]\n",
      "    top_cands = cands.sort(\"Vote Count\",ascending=False)[:2]\n",
      "    #print top_cands\n",
      "    try:\n",
      "        youtube_stats = get_state_data(top_cands[\"Full Name\"].values)\n",
      "        #print youtube_stats\n",
      "        # Store Data Back\n",
      "\n",
      "        for item in youtube_stats.iterrows():\n",
      "            cand = item[0]\n",
      "            stats = item[1]\n",
      "            index = int(senate_2012[senate_2012[\"Full Name\"] == cand].index)\n",
      "            senate_2012[\"commentCount\"][index] = stats[\"commentCount\"]\n",
      "            senate_2012[\"dislikeCount\"][index] = stats[\"dislikeCount\"]\n",
      "            senate_2012[\"favoriteCount\"][index] = stats[\"favoriteCount\"]\n",
      "            senate_2012[\"likeCount\"][index] = stats[\"likeCount\"]\n",
      "            senate_2012[\"viewCount\"][index] = stats[\"viewCount\"]\n",
      "            senate_2012[\"like_dislike_r\"][index] = stats[\"like_dislike_r\"]\n",
      "            senate_2012[\"views_share\"][index] = stats[\"views_share\"]\n",
      "            senate_2012[\"msgs_share\"][index] = stats[\"msgs_share\"]\n",
      "            senate_2012[\"likes_share\"][index] = stats[\"likes_share\"]\n",
      "            senate_2012[\"dislikes_share\"][index] = stats[\"dislikes_share\"]\n",
      "            senate_2012[\"sentiment\"][index] = stats[\"sentiment\"]\n",
      "    except:\n",
      "        pass"
     ],
     "language": "python",
     "metadata": {},
     "outputs": [
      {
       "output_type": "stream",
       "stream": "stdout",
       "text": [
        "AZ:\n",
        "                 commentCount  dislikeCount  favoriteCount  likeCount  viewCount  like_dislike_r  views_share  \\\n",
        "candidate_name                                                                                                  \n",
        "Jeff Flake                542          1240              0       2927    1829090        0.702424      0.58453   \n",
        "Richard Carmona           513          2112              0       4590    1300075        0.684870      0.41547   \n",
        "\n",
        "                 msgs_share  likes_share  dislikes_share  sentiment  \n",
        "candidate_name                                                       \n",
        "Jeff Flake         0.513744     0.389384        0.369928   0.016247  \n",
        "Richard Carmona    0.486256     0.610616        0.630072   0.044413  "
       ]
      },
      {
       "output_type": "stream",
       "stream": "stdout",
       "text": [
        "\n",
        "CA:\n",
        "                  commentCount  dislikeCount  favoriteCount  likeCount  viewCount  like_dislike_r  views_share  \\\n",
        "candidate_name                                                                                                   \n",
        "Dianne Feinstein         12130          1690              0      16760    3165370        0.908401       0.7182   \n",
        "Elizabeth Emken           4492           437              0       6777    1241994        0.939423       0.2818   \n",
        "\n",
        "                  msgs_share  likes_share  dislikes_share  sentiment  \n",
        "candidate_name                                                        \n",
        "Dianne Feinstein    0.729756      0.71207        0.794546  -0.000463  \n",
        "Elizabeth Emken     0.270244      0.28793        0.205454  -0.006897  "
       ]
      },
      {
       "output_type": "stream",
       "stream": "stdout",
       "text": [
        "\n",
        "CT:\n",
        "                commentCount  dislikeCount  favoriteCount  likeCount  viewCount  like_dislike_r  views_share  \\\n",
        "candidate_name                                                                                                 \n",
        "Chris Murphy             233            88              0        447     159171        0.835514     0.371103   \n",
        "Linda McMahon           3962           418              0       4062     269742        0.906696     0.628897   \n",
        "\n",
        "                msgs_share  likes_share  dislikes_share  sentiment  \n",
        "candidate_name                                                      \n",
        "Chris Murphy      0.055542     0.099135        0.173913   0.004893  \n",
        "Linda McMahon     0.944458     0.900865        0.826087   0.029649  "
       ]
      },
      {
       "output_type": "stream",
       "stream": "stdout",
       "text": [
        "\n",
        "DE:\n",
        "                commentCount  dislikeCount  favoriteCount  likeCount  viewCount  like_dislike_r  views_share  \\\n",
        "candidate_name                                                                                                 \n",
        "Kevin Wade                60            10              0         70      11400           0.875     0.276123   \n",
        "Thomas Carper             28            10              0         70      29886           0.875     0.723877   \n",
        "\n",
        "                msgs_share  likes_share  dislikes_share  sentiment  \n",
        "candidate_name                                                      \n",
        "Kevin Wade        0.681818          0.5             0.5  -0.031250  \n",
        "Thomas Carper     0.318182          0.5             0.5   0.018583  "
       ]
      },
      {
       "output_type": "stream",
       "stream": "stdout",
       "text": [
        "\n",
        "FL:\n",
        "                commentCount  dislikeCount  favoriteCount  likeCount  viewCount  like_dislike_r  views_share  \\\n",
        "candidate_name                                                                                                 \n",
        "Bill Nelson              376            59              0        937     511466        0.940763     0.865892   \n",
        "Connie Mack              164            67              0        249      79215        0.787975     0.134108   \n",
        "\n",
        "                msgs_share  likes_share  dislikes_share  sentiment  \n",
        "candidate_name                                                      \n",
        "Bill Nelson       0.696296     0.790051        0.468254   0.021819  \n",
        "Connie Mack       0.303704     0.209949        0.531746   0.015071  "
       ]
      },
      {
       "output_type": "stream",
       "stream": "stdout",
       "text": [
        "\n",
        "HI:\n",
        "                commentCount  dislikeCount  favoriteCount  likeCount  viewCount  like_dislike_r  views_share  \\\n",
        "candidate_name                                                                                                 \n",
        "Linda Lingle             343           451              0        672     480724        0.598397     0.476687   \n",
        "Mazie Hirono             367           577              0        924     527744        0.615590     0.523313   \n",
        "\n",
        "                msgs_share  likes_share  dislikes_share  sentiment  \n",
        "candidate_name                                                      \n",
        "Linda Lingle      0.483099     0.421053        0.438716   0.023237  \n",
        "Mazie Hirono      0.516901     0.578947        0.561284   0.065901  "
       ]
      },
      {
       "output_type": "stream",
       "stream": "stdout",
       "text": [
        "\n",
        "IN:\n",
        "                  commentCount  dislikeCount  favoriteCount  likeCount  viewCount  like_dislike_r  views_share  \\\n",
        "candidate_name                                                                                                   \n",
        "Joe Donnelly              3011           931              0       1203    2646352        0.563730     0.756489   \n",
        "Richard Mourdock          7869          1467              0       8777     851850        0.856794     0.243511   \n",
        "\n",
        "                  msgs_share  likes_share  dislikes_share  sentiment  \n",
        "candidate_name                                                        \n",
        "Joe Donnelly        0.276746     0.120541         0.38824  -0.009662  \n",
        "Richard Mourdock    0.723254     0.879459         0.61176   0.043522  "
       ]
      },
      {
       "output_type": "stream",
       "stream": "stdout",
       "text": [
        "\n",
        "MA:\n",
        "                  commentCount  dislikeCount  favoriteCount  likeCount  viewCount  like_dislike_r  views_share  \\\n",
        "candidate_name                                                                                                   \n",
        "Elizabeth Warren         10007          2208              0      15744    2458138        0.877005     0.718429   \n",
        "Scott Brown               5226          1259              0       6490     963410        0.837527     0.281571   \n",
        "\n",
        "                  msgs_share  likes_share  dislikes_share  sentiment  \n",
        "candidate_name                                                        \n",
        "Elizabeth Warren    0.656929     0.708105        0.636862   0.014748  \n",
        "Scott Brown         0.343071     0.291895        0.363138   0.019217  "
       ]
      },
      {
       "output_type": "stream",
       "stream": "stdout",
       "text": [
        "\n",
        "MD:\n",
        "                commentCount  dislikeCount  favoriteCount  likeCount  viewCount  like_dislike_r  views_share  \\\n",
        "candidate_name                                                                                                 \n",
        "Ben Cardin               301            90              0        386      61822        0.810924      0.82694   \n",
        "Daniel Bongino           162            10              0        162      12938        0.941860      0.17306   \n",
        "\n",
        "                msgs_share  likes_share  dislikes_share  sentiment  \n",
        "candidate_name                                                      \n",
        "Ben Cardin        0.650108      0.70438             0.9   0.008083  \n",
        "Daniel Bongino    0.349892      0.29562             0.1  -0.018750  "
       ]
      },
      {
       "output_type": "stream",
       "stream": "stdout",
       "text": [
        "\n",
        "ME:\n",
        "                 commentCount  dislikeCount  favoriteCount  likeCount  viewCount  like_dislike_r  views_share  \\\n",
        "candidate_name                                                                                                  \n",
        "Angus King                 91           133              0        385      39436        0.743243     0.911689   \n",
        "Charles Summers             0            10              0         40       3820        0.800000     0.088311   \n",
        "\n",
        "                 msgs_share  likes_share  dislikes_share  sentiment  \n",
        "candidate_name                                                       \n",
        "Angus King                1     0.905882         0.93007   0.053315  \n",
        "Charles Summers           0     0.094118         0.06993   0.016667  "
       ]
      },
      {
       "output_type": "stream",
       "stream": "stdout",
       "text": [
        "\n",
        "MI:\n",
        "                 commentCount  dislikeCount  favoriteCount  likeCount  viewCount  like_dislike_r  views_share  \\\n",
        "candidate_name                                                                                                  \n",
        "Debbie Stabenow            63            83              0        595     428223        0.877581     0.870664   \n",
        "Pete Hoekstra              57           187              0        398      63612        0.680342     0.129336   \n",
        "\n",
        "                 msgs_share  likes_share  dislikes_share  sentiment  \n",
        "candidate_name                                                       \n",
        "Debbie Stabenow       0.525     0.599194        0.307407   0.062909  \n",
        "Pete Hoekstra         0.475     0.400806        0.692593   0.121008  "
       ]
      },
      {
       "output_type": "stream",
       "stream": "stdout",
       "text": [
        "\n",
        "MN:\n",
        "                commentCount  dislikeCount  favoriteCount  likeCount  viewCount  like_dislike_r  views_share  \\\n",
        "candidate_name                                                                                                 \n",
        "Amy Klobuchar            264           242              0        430      97354        0.639881     0.659651   \n",
        "Kurt Bills               300           100              0        460      50230        0.821429     0.340349   \n",
        "\n",
        "                msgs_share  likes_share  dislikes_share  sentiment  \n",
        "candidate_name                                                      \n",
        "Amy Klobuchar     0.468085     0.483146        0.707602   0.030468  \n",
        "Kurt Bills        0.531915     0.516854        0.292398   0.160000  "
       ]
      },
      {
       "output_type": "stream",
       "stream": "stdout",
       "text": [
        "\n",
        "MO:\n",
        "                  commentCount  dislikeCount  favoriteCount  likeCount  viewCount  like_dislike_r  views_share  \\\n",
        "candidate_name                                                                                                   \n",
        "Claire McCaskill           525           438              0        765     141427        0.635910     0.036271   \n",
        "Todd Akin                44285          5817              0      66830    3757741        0.919928     0.963729   \n",
        "\n",
        "                  msgs_share  likes_share  dislikes_share  sentiment  \n",
        "candidate_name                                                        \n",
        "Claire McCaskill    0.011716     0.011317        0.070024   0.009500  \n",
        "Todd Akin           0.988284     0.988683        0.929976  -0.016794  "
       ]
      },
      {
       "output_type": "stream",
       "stream": "stdout",
       "text": [
        "\n",
        "MS:\n",
        "                commentCount  dislikeCount  favoriteCount  likeCount  viewCount  like_dislike_r  views_share  \\\n",
        "candidate_name                                                                                                 \n",
        "Albert Gore              370             0              0        260      75470        1.000000      0.70684   \n",
        "Roger Wicker             120            93              0        203      31301        0.685811      0.29316   \n",
        "\n",
        "                msgs_share  likes_share  dislikes_share  sentiment  \n",
        "candidate_name                                                      \n",
        "Albert Gore       0.755102     0.561555               0  -0.050000  \n",
        "Roger Wicker      0.244898     0.438445               1   0.029821  "
       ]
      },
      {
       "output_type": "stream",
       "stream": "stdout",
       "text": [
        "\n",
        "MT:\n",
        "                commentCount  dislikeCount  favoriteCount  likeCount  viewCount  like_dislike_r  views_share  \\\n",
        "candidate_name                                                                                                 \n",
        "Denny Rehberg           4500           351              0      10651     390033        0.968097     0.807661   \n",
        "Jon Tester               480            72              0       1172      92884        0.942122     0.192339   \n",
        "\n",
        "                msgs_share  likes_share  dislikes_share  sentiment  \n",
        "candidate_name                                                      \n",
        "Denny Rehberg     0.903614     0.900871        0.829787   0.003883  \n",
        "Jon Tester        0.096386     0.099129        0.170213   0.023900  "
       ]
      },
      {
       "output_type": "stream",
       "stream": "stdout",
       "text": [
        "\n",
        "ND:\n",
        "                commentCount  dislikeCount  favoriteCount  likeCount  viewCount  like_dislike_r  views_share  \\\n",
        "candidate_name                                                                                                 \n",
        "Heidi Heitkamp           315           289              0        726     773197        0.715271     0.574998   \n",
        "Rick Berg                331           200              0        573     571499        0.741268     0.425002   \n",
        "\n",
        "                msgs_share  likes_share  dislikes_share  sentiment  \n",
        "candidate_name                                                      \n",
        "Heidi Heitkamp    0.487616     0.558891        0.591002   0.007323  \n",
        "Rick Berg         0.512384     0.441109        0.408998   0.033317  "
       ]
      },
      {
       "output_type": "stream",
       "stream": "stdout",
       "text": [
        "\n",
        "NE:\n",
        "                commentCount  dislikeCount  favoriteCount  likeCount  viewCount  like_dislike_r  views_share  \\\n",
        "candidate_name                                                                                                 \n",
        "Bob Kerrey               328           179              0       1526     526859        0.895015     0.616558   \n",
        "Deb Fischer              441           272              0       2076     327657        0.884157     0.383442   \n",
        "\n",
        "                msgs_share  likes_share  dislikes_share  sentiment  \n",
        "candidate_name                                                      \n",
        "Bob Kerrey        0.426528     0.423654        0.396896   0.015867  \n",
        "Deb Fischer       0.573472     0.576346        0.603104   0.011278  "
       ]
      },
      {
       "output_type": "stream",
       "stream": "stdout",
       "text": [
        "\n",
        "NJ:\n",
        "                commentCount  dislikeCount  favoriteCount  likeCount  viewCount  like_dislike_r  views_share  \\\n",
        "candidate_name                                                                                                 \n",
        "Bob Menendez             601           232              0        819     132137        0.779258     0.777057   \n",
        "Joe Kyrillos              87           189              0        198      37911        0.511628     0.222943   \n",
        "\n",
        "                msgs_share  likes_share  dislikes_share  sentiment  \n",
        "candidate_name                                                      \n",
        "Bob Menendez      0.873547      0.80531        0.551069  -0.017692  \n",
        "Joe Kyrillos      0.126453      0.19469        0.448931   0.083939  "
       ]
      },
      {
       "output_type": "stream",
       "stream": "stdout",
       "text": [
        "\n",
        "NM:\n",
        "                 commentCount  dislikeCount  favoriteCount  likeCount  viewCount  like_dislike_r  views_share  \\\n",
        "candidate_name                                                                                                  \n",
        "Heather Wilson            170           330              0        460     112560        0.582278     0.116505   \n",
        "Martin Heinrich           380           790              0       2580     853580        0.765579     0.883495   \n",
        "\n",
        "                 msgs_share  likes_share  dislikes_share  sentiment  \n",
        "candidate_name                                                       \n",
        "Heather Wilson     0.309091     0.151316        0.294643   0.064444  \n",
        "Martin Heinrich    0.690909     0.848684        0.705357   0.058437  "
       ]
      },
      {
       "output_type": "stream",
       "stream": "stdout",
       "text": [
        "\n",
        "NV:\n",
        "                 commentCount  dislikeCount  favoriteCount  likeCount  viewCount  like_dislike_r  views_share  \\\n",
        "candidate_name                                                                                                  \n",
        "Dean Heller               286           748              0       1077    1014221        0.590137     0.429432   \n",
        "Shelley Berkley           434           402              0        884    1347552        0.687403     0.570568   \n",
        "\n",
        "                 msgs_share  likes_share  dislikes_share  sentiment  \n",
        "candidate_name                                                       \n",
        "Dean Heller        0.397222      0.54921        0.650435  -0.003463  \n",
        "Shelley Berkley    0.602778      0.45079        0.349565   0.005413  "
       ]
      },
      {
       "output_type": "stream",
       "stream": "stdout",
       "text": [
        "\n",
        "NY:\n",
        "                    commentCount  dislikeCount  favoriteCount  likeCount  viewCount  like_dislike_r  views_share  \\\n",
        "candidate_name                                                                                                     \n",
        "Kirsten Gillibrand           684           167              0       1452     399903        0.896850     0.638157   \n",
        "Wendy Long                   494            83              0        740     226750        0.899149     0.361843   \n",
        "\n",
        "                    msgs_share  likes_share  dislikes_share  sentiment  \n",
        "candidate_name                                                          \n",
        "Kirsten Gillibrand    0.580645     0.662409           0.668   0.030444  \n",
        "Wendy Long            0.419355     0.337591           0.332   0.074461  "
       ]
      },
      {
       "output_type": "stream",
       "stream": "stdout",
       "text": [
        "\n",
        "OH:\n",
        "                commentCount  dislikeCount  favoriteCount  likeCount  viewCount  like_dislike_r  views_share  \\\n",
        "candidate_name                                                                                                 \n",
        "Josh Mandel              484           311              0        423     163496        0.576294     0.317986   \n",
        "Sherrod Brown            292            70              0        331     350665        0.825436     0.682014   \n",
        "\n",
        "                msgs_share  likes_share  dislikes_share  sentiment  \n",
        "candidate_name                                                      \n",
        "Josh Mandel       0.623711     0.561008        0.816273   0.002392  \n",
        "Sherrod Brown     0.376289     0.438992        0.183727   0.034265  "
       ]
      },
      {
       "output_type": "stream",
       "stream": "stdout",
       "text": [
        "\n",
        "PA:\n",
        "                commentCount  dislikeCount  favoriteCount  likeCount  viewCount  like_dislike_r  views_share  \\\n",
        "candidate_name                                                                                                 \n",
        "Bob Casey                117           139              0        316      57281        0.694505     0.203635   \n",
        "Tom Smith                793           209              0       1648     224012        0.887453     0.796365   \n",
        "\n",
        "                msgs_share  likes_share  dislikes_share  sentiment  \n",
        "candidate_name                                                      \n",
        "Bob Casey         0.128571     0.160896        0.399425   0.014105  \n",
        "Tom Smith         0.871429     0.839104        0.600575   0.048067  "
       ]
      },
      {
       "output_type": "stream",
       "stream": "stdout",
       "text": [
        "\n",
        "RI:\n",
        "                    commentCount  dislikeCount  favoriteCount  likeCount  viewCount  like_dislike_r  views_share  \\\n",
        "candidate_name                                                                                                     \n",
        "Barry Hinckley                12            12              0        138      21111        0.920000     0.404712   \n",
        "Sheldon Whitehouse            10            10              0        134      31052        0.930556     0.595288   \n",
        "\n",
        "                    msgs_share  likes_share  dislikes_share  sentiment  \n",
        "candidate_name                                                          \n",
        "Barry Hinckley        0.545455     0.507353        0.545455   0.138462  \n",
        "Sheldon Whitehouse    0.454545     0.492647        0.454545   0.033625  "
       ]
      },
      {
       "output_type": "stream",
       "stream": "stdout",
       "text": [
        "\n",
        "TN:\n",
        "                commentCount  dislikeCount  favoriteCount  likeCount  viewCount  like_dislike_r  views_share  \\\n",
        "candidate_name                                                                                                 \n",
        "Bob Corker               155            20              0        162      17499        0.890110     0.258238   \n",
        "Mark Clayton             230            50              0        230      50264        0.821429     0.741762   \n",
        "\n",
        "                msgs_share  likes_share  dislikes_share  sentiment  \n",
        "candidate_name                                                      \n",
        "Bob Corker        0.402597     0.413265        0.285714   0.144643  \n",
        "Mark Clayton      0.597403     0.586735        0.714286   0.100538  "
       ]
      },
      {
       "output_type": "stream",
       "stream": "stdout",
       "text": [
        "\n",
        "TX:\n",
        "                commentCount  dislikeCount  favoriteCount  likeCount  viewCount  like_dislike_r  views_share  \\\n",
        "candidate_name                                                                                                 \n",
        "Paul Sadler              840           257              0       1937     250148        0.882862     0.462666   \n",
        "Ted Cruz                1676           255              0       2410     290519        0.904315     0.537334   \n",
        "\n",
        "                msgs_share  likes_share  dislikes_share  sentiment  \n",
        "candidate_name                                                      \n",
        "Paul Sadler       0.333863     0.445595        0.501953   0.015821  \n",
        "Ted Cruz          0.666137     0.554405        0.498047   0.009659  "
       ]
      },
      {
       "output_type": "stream",
       "stream": "stdout",
       "text": [
        "\n",
        "UT:\n",
        "                commentCount  dislikeCount  favoriteCount  likeCount  viewCount  like_dislike_r  views_share  \\\n",
        "candidate_name                                                                                                 \n",
        "Orrin Hatch              495           336              0        284      38701        0.458065     0.511722   \n",
        "Scott Howell              19            13              0        175      36928        0.930851     0.488278   \n",
        "\n",
        "                msgs_share  likes_share  dislikes_share  sentiment  \n",
        "candidate_name                                                      \n",
        "Orrin Hatch       0.963035     0.618736        0.962751   0.084909  \n",
        "Scott Howell      0.036965     0.381264        0.037249   0.050492  "
       ]
      },
      {
       "output_type": "stream",
       "stream": "stdout",
       "text": [
        "\n",
        "VA:\n",
        "                commentCount  dislikeCount  favoriteCount  likeCount  viewCount  like_dislike_r  views_share  \\\n",
        "candidate_name                                                                                                 \n",
        "George Allen             324           443              0        500     206940        0.530223     0.718385   \n",
        "Timothy Kaine            174            90              0        272      81123        0.751381     0.281615   \n",
        "\n",
        "                msgs_share  likes_share  dislikes_share  sentiment  \n",
        "candidate_name                                                      \n",
        "George Allen      0.650602     0.647668        0.831144   0.023067  \n",
        "Timothy Kaine     0.349398     0.352332        0.168856   0.022738  "
       ]
      },
      {
       "output_type": "stream",
       "stream": "stdout",
       "text": [
        "\n",
        "VT:\n",
        "                commentCount  dislikeCount  favoriteCount  likeCount  viewCount  like_dislike_r  views_share  \\\n",
        "candidate_name                                                                                                 \n",
        "Bernie Sanders          2131           129              0       4878     223002        0.974236     0.992571   \n",
        "John MacGovern             6             0              0          2       1669        1.000000     0.007429   \n",
        "\n",
        "                msgs_share  likes_share  dislikes_share  sentiment  \n",
        "candidate_name                                                      \n",
        "Bernie Sanders    0.997192      0.99959               1   0.011692  \n",
        "John MacGovern    0.002808      0.00041               0   0.000000  "
       ]
      },
      {
       "output_type": "stream",
       "stream": "stdout",
       "text": [
        "\n",
        "WA:\n",
        "                     commentCount  dislikeCount  favoriteCount  likeCount  viewCount  like_dislike_r  views_share  \\\n",
        "candidate_name                                                                                                      \n",
        "Maria Cantwell                234            52              0        244      62934        0.824324     0.736725   \n",
        "Michael Baumgartner           112            70              0        137      22490        0.661836     0.263275   \n",
        "\n",
        "                     msgs_share  likes_share  dislikes_share  sentiment  \n",
        "candidate_name                                                           \n",
        "Maria Cantwell         0.676301      0.64042         0.42623   0.107853  \n",
        "Michael Baumgartner    0.323699      0.35958         0.57377   0.031234  "
       ]
      },
      {
       "output_type": "stream",
       "stream": "stdout",
       "text": [
        "\n",
        "WI:\n",
        "                commentCount  dislikeCount  favoriteCount  likeCount  viewCount  like_dislike_r  views_share  \\\n",
        "candidate_name                                                                                                 \n",
        "Tammy Baldwin            393           169              0        944     488400        0.848158     0.602401   \n",
        "Tommy Thompson          1494           550              0       2332     322355        0.809160     0.397599   \n",
        "\n",
        "                msgs_share  likes_share  dislikes_share  sentiment  \n",
        "candidate_name                                                      \n",
        "Tammy Baldwin     0.208267     0.288156        0.235049   0.022898  \n",
        "Tommy Thompson    0.791733     0.711844        0.764951   0.010391  "
       ]
      },
      {
       "output_type": "stream",
       "stream": "stdout",
       "text": [
        "\n",
        "WV:\n",
        "                commentCount  dislikeCount  favoriteCount  likeCount  viewCount  like_dislike_r  views_share  \\\n",
        "candidate_name                                                                                                 \n",
        "Joe Manchin              675           545              0       3005     604285        0.846479     0.964792   \n",
        "John Raese                74            68              0        118      22052        0.634409     0.035208   \n",
        "\n",
        "                msgs_share  likes_share  dislikes_share  sentiment  \n",
        "candidate_name                                                      \n",
        "Joe Manchin       0.901202     0.962216         0.88907   0.006897  \n",
        "John Raese        0.098798     0.037784         0.11093  -0.057143  "
       ]
      },
      {
       "output_type": "stream",
       "stream": "stdout",
       "text": [
        "\n",
        "WY:\n",
        "                commentCount  dislikeCount  favoriteCount  likeCount  viewCount  like_dislike_r  views_share  \\\n",
        "candidate_name                                                                                                 \n",
        "John Barrasso            630           290              0        380      74030        0.567164     0.996943   \n",
        "Tim Chesnut                4             2              0          2        227        0.500000     0.003057   \n",
        "\n",
        "                msgs_share  likes_share  dislikes_share  sentiment  \n",
        "candidate_name                                                      \n",
        "John Barrasso     0.993691     0.994764        0.993151       0.09  \n",
        "Tim Chesnut       0.006309     0.005236        0.006849       0.00  "
       ]
      },
      {
       "output_type": "stream",
       "stream": "stdout",
       "text": [
        "\n"
       ]
      }
     ],
     "prompt_number": 37
    },
    {
     "cell_type": "code",
     "collapsed": false,
     "input": [
      "cands_with_stats = senate_2012[~senate_2012[\"viewCount\"].isnull()]\n",
      "cands_with_stats[\"VotesShare\"] = cands_with_stats[[\"Vote Count\", \"State Postal\"]].apply(lambda x:x[0]/senate_2012[senate_2012[\"State Postal\"]==x[1]][\"Vote Count\"].sum(), axis=1)"
     ],
     "language": "python",
     "metadata": {},
     "outputs": [],
     "prompt_number": 38
    },
    {
     "cell_type": "code",
     "collapsed": false,
     "input": [
      "x_col = \"views_share\"\n",
      "y_col = \"VotesShare\"\n",
      "\n",
      "plt.figure(figsize=(15,10))\n",
      "color_dict = {\"Dem\": \"b\", \"GOP\": \"r\", \"Ind\":\"g\", \"NPA\": \"orange\"}\n",
      "shape_dict = {\"X\": \"*\", \"nan\": \".\"}\n",
      "\n",
      "wl_dp = [len(cands_with_stats[(cands_with_stats[x_col]>=0.5) &\n",
      "                          (cands_with_stats[\"Winner\"]==\"X\")]),\n",
      "                    len(cands_with_stats[(cands_with_stats[x_col]>=0.5)])]\n",
      "wl_dm = [len(cands_with_stats[(cands_with_stats[x_col]<0.5) &\n",
      "                          (cands_with_stats[\"Winner\"]==\"X\")]),\n",
      "                    len(cands_with_stats[(cands_with_stats[x_col]<0.5)])]\n",
      "\n",
      "wl_50p = \"Winning Ratio %s/%s ($%0.1f \\%%$)\" % (wl_dp[0], wl_dp[1], wl_dp[0]/wl_dp[1]*100)\n",
      "wl_50m = \"Winning Ratio %s/%s ($%0.1f \\%%$)\" % (wl_dm[0], wl_dm[1], wl_dm[0]/wl_dm[1]*100)\n",
      "\n",
      "for cand in cands_with_stats.iterrows():\n",
      "    stats = cand[1]\n",
      "    x = stats[x_col]\n",
      "    y = stats[y_col]\n",
      "    c = color_dict[stats[\"Party\"]]\n",
      "    m = shape_dict[str(stats[\"Winner\"])]\n",
      "    plt.scatter(x, y, c=c, marker=m, s=500, alpha=0.5)\n",
      "    if stats[x_col] > 0.9:\n",
      "        plt.annotate(stats[\"Full Name\"],xytext=(8,20), xy=(x,y),\n",
      "                     textcoords='offset points', arrowprops=dict(arrowstyle='-|>'))\n",
      "\n",
      "plt.xlabel(\"Youtube \" + x_col + \" Between Competing Candidates in a State Race\")\n",
      "plt.ylabel(\"Actual \" + y_col)\n",
      "plt.vlines(.5, ymin=0, ymax=1)\n",
      "\n",
      "plt.annotate(s=wl_50p, xy=(0.7, 1))\n",
      "plt.annotate(s=wl_50m, xy=(0.2, 1))\n",
      "plt.title(\"Youtube Video Views for Candidate from 2012-08-04 to 2012-11-04 and Actual Votes\")\n",
      "plt.annotate(\"Start Represent Winning Candidates\\nCircles Represent Loosing Candidate\", xy=(0.03, 0.85))\n",
      "plt.annotate(\"Red: GOP\\nBlue: Dem\\nGreen: Ind\\nYellow: NPA\", xy=(0.03, 0.7))\n",
      "axis(\"tight\")\n",
      "plt.box(on=\"off\")\n",
      "plt.show()"
     ],
     "language": "python",
     "metadata": {},
     "outputs": [
      {
       "metadata": {},
       "output_type": "display_data",
       "png": "[encoded data removed]",
       "text": [
        "<matplotlib.figure.Figure at 0x7ff080672950>"
       ]
      }
     ],
     "prompt_number": 39
    },
    {
     "cell_type": "code",
     "collapsed": false,
     "input": [
      "cands_with_stats[cands_with_stats[\"State Postal\"]==\"MO\"]"
     ],
     "language": "python",
     "metadata": {},
     "outputs": [
      {
       "html": [
        "<div style=\"max-height:1000px;max-width:1500px;overflow:auto;\">\n",
        "<table border=\"1\" class=\"dataframe\">\n",
        "  <thead>\n",
        "    <tr style=\"text-align: right;\">\n",
        "      <th></th>\n",
        "      <th>State Postal</th>\n",
        "      <th>County Name</th>\n",
        "      <th>Party</th>\n",
        "      <th>First Name</th>\n",
        "      <th>Last Name</th>\n",
        "      <th>Incumbent</th>\n",
        "      <th>Vote Count</th>\n",
        "      <th>Winner</th>\n",
        "      <th>Full Name</th>\n",
        "      <th>commentCount</th>\n",
        "      <th>dislikeCount</th>\n",
        "      <th>favoriteCount</th>\n",
        "      <th>likeCount</th>\n",
        "      <th>viewCount</th>\n",
        "      <th>like_dislike_r</th>\n",
        "      <th>views_share</th>\n",
        "      <th>msgs_share</th>\n",
        "      <th>likes_share</th>\n",
        "      <th>dislikes_share</th>\n",
        "      <th>sentiment</th>\n",
        "      <th>VotesShare</th>\n",
        "    </tr>\n",
        "  </thead>\n",
        "  <tbody>\n",
        "    <tr>\n",
        "      <th>13</th>\n",
        "      <td> MO</td>\n",
        "      <td> Missouri</td>\n",
        "      <td> Dem</td>\n",
        "      <td> Claire</td>\n",
        "      <td> McCaskill</td>\n",
        "      <td> 1</td>\n",
        "      <td> 1484683</td>\n",
        "      <td>   X</td>\n",
        "      <td> Claire McCaskill</td>\n",
        "      <td>   525</td>\n",
        "      <td>  438</td>\n",
        "      <td> 0</td>\n",
        "      <td>   765</td>\n",
        "      <td>  141427</td>\n",
        "      <td> 0.635910</td>\n",
        "      <td> 0.036271</td>\n",
        "      <td> 0.011716</td>\n",
        "      <td> 0.011317</td>\n",
        "      <td> 0.070024</td>\n",
        "      <td> 0.009500</td>\n",
        "      <td> 0.547173</td>\n",
        "    </tr>\n",
        "    <tr>\n",
        "      <th>46</th>\n",
        "      <td> MO</td>\n",
        "      <td> Missouri</td>\n",
        "      <td> GOP</td>\n",
        "      <td>   Todd</td>\n",
        "      <td>      Akin</td>\n",
        "      <td> 0</td>\n",
        "      <td> 1063698</td>\n",
        "      <td> NaN</td>\n",
        "      <td>        Todd Akin</td>\n",
        "      <td> 44285</td>\n",
        "      <td> 5817</td>\n",
        "      <td> 0</td>\n",
        "      <td> 66830</td>\n",
        "      <td> 3757741</td>\n",
        "      <td> 0.919928</td>\n",
        "      <td> 0.963729</td>\n",
        "      <td> 0.988284</td>\n",
        "      <td> 0.988683</td>\n",
        "      <td> 0.929976</td>\n",
        "      <td>-0.016794</td>\n",
        "      <td> 0.392021</td>\n",
        "    </tr>\n",
        "  </tbody>\n",
        "</table>\n",
        "</div>"
       ],
       "metadata": {},
       "output_type": "pyout",
       "prompt_number": 40,
       "text": [
        "   State Postal County Name Party First Name  Last Name  Incumbent  Vote Count Winner         Full Name  commentCount  \\\n",
        "13           MO    Missouri   Dem     Claire  McCaskill          1     1484683      X  Claire McCaskill           525   \n",
        "46           MO    Missouri   GOP       Todd       Akin          0     1063698    NaN         Todd Akin         44285   \n",
        "\n",
        "    dislikeCount  favoriteCount  likeCount  viewCount  like_dislike_r  views_share  msgs_share  likes_share  \\\n",
        "13           438              0        765     141427        0.635910     0.036271    0.011716     0.011317   \n",
        "46          5817              0      66830    3757741        0.919928     0.963729    0.988284     0.988683   \n",
        "\n",
        "    dislikes_share  sentiment  VotesShare  \n",
        "13        0.070024   0.009500    0.547173  \n",
        "46        0.929976  -0.016794    0.392021  "
       ]
      }
     ],
     "prompt_number": 40
    }
   ],
   "metadata": {}
  }
 ]
}
