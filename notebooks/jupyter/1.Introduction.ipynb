{
 "cells": [
  {
   "cell_type": "markdown",
   "metadata": {},
   "source": [
    "# IPython 3 (jupyter)\n",
    "\n",
    "##Upgrade to the new version\n",
    "\n",
    "```\n",
    "sudo pip install --upgrade ipyton\n",
    "sudo pip install --upgrade \"ipython[notebook]\"\n",
    "```\n",
    "\n",
    "##Enabling Python3\n",
    "\n",
    "http://jupyter.cs.brynmawr.edu/hub/dblank/public/Jupyter%20Help.ipynb#1.4.2-Enable-Python-3-kernel\n",
    "\n",
    "You have to run these two blocks of code in ipython. The first one \n"
   ]
  },
  {
   "cell_type": "code",
   "execution_count": null,
   "metadata": {
    "collapsed": true
   },
   "outputs": [],
   "source": [
    "! mkdir -p ~/.ipython/kernels/python3"
   ]
  },
  {
   "cell_type": "code",
   "execution_count": null,
   "metadata": {
    "collapsed": true
   },
   "outputs": [],
   "source": [
    "%%file ~/.ipython/kernels/python3/kernel.json\n",
    "\n",
    "{\n",
    " \"display_name\": \"Python 3\", \n",
    " \"language\": \"python\", \n",
    " \"argv\": [\n",
    "  \"python3\", \n",
    "  \"-c\", \"from IPython.kernel.zmq.kernelapp import main; main()\", \n",
    "  \"-f\", \"{connection_file}\"\n",
    " ], \n",
    " \"codemirror_mode\": {\n",
    "  \"version\": 2, \n",
    "  \"name\": \"ipython\"\n",
    " }\n",
    "}"
   ]
  },
  {
   "cell_type": "markdown",
   "metadata": {},
   "source": [
    "##Why is it called jupyter?\n",
    "\n",
    "<img src=\"http://jupyter.org/images/jupyter-sq-text.svg\" style=\"width:50%;height:50%\">\n",
    "\n",
    "The name represents the new direction the development of IPython is going for. They moving away from linking the IPython system with a single language. The way it works is as follows:\n",
    "\n",
    "<img src=\"kernel.png\">\n",
    "\n",
    "$$Julia + Python + R = jupyter$$\n",
    "\n",
    "###But there is another reason\n",
    "\n",
    "Galileo documented his observasions about Jupiter's moons and published them in the Sidereus Nuncius back in 1610. This was the first paper ever published about astronomy that used observations using a telescope. His conclusion from these observations that the Earth in not the center of the universe!\n",
    "\n",
    "<img src=\"http://upload.wikimedia.org/wikipedia/commons/d/d0/Sidereus_Nuncius_Medicean_Stars.jpg\">\n",
    "\n",
    "Sharing these observations and conclusions in a way that can be replicated and verified inspired the modern scientific method. This is what IPython Notebooks culture is all about, sharing the complete process, including the data so others can replicate your results and verify your process.\n",
    "\n",
    "\n",
    "#So what's new?\n",
    "\n",
    "http://ipython.org/ipython-doc/3/whatsnew/version3.html\n",
    "\n",
    "> 3.x will be the last monolithic release of IPython, as the next release cycle will see the growing project split into its Python-specific and language-agnostic components.\n",
    ">\n",
    "> **http://ipython.org/ipython-doc/3/whatsnew/version3.html**\n",
    "\n",
    "##1. Notebooks with different kernels\n",
    "https://github.com/ipython/ipython/wiki/IPython-kernels-for-other-languages\n",
    "\n",
    "![](http://ipython.org/ipython-doc/3/_images/kernel_selector_screenshot.png)\n",
    "##2. Unicode Identifiers\n",
    "**Works ONLY with Python3**\n",
    "\n",
    "Type \\alpha Then Press Tab."
   ]
  },
  {
   "cell_type": "code",
   "execution_count": 9,
   "metadata": {
    "collapsed": false,
    "slideshow": {
     "slide_type": "slide"
    }
   },
   "outputs": [
    {
     "data": {
      "text/plain": [
       "0.5"
      ]
     },
     "execution_count": 9,
     "metadata": {},
     "output_type": "execute_result"
    }
   ],
   "source": [
    "α = 1\n",
    "β = 2\n",
    "α / β"
   ]
  },
  {
   "cell_type": "markdown",
   "metadata": {
    "slideshow": {
     "slide_type": "slide"
    }
   },
   "source": [
    "##3. Widgets are **NOT** Backwards Compatible\n",
    "\n",
    "http://ipython.org/ipython-doc/3/whatsnew/version3_widget_migration.html\n",
    "\n",
    "##4. No Header Cells\n",
    "You can now use heading inside inside a markdown cell and you will get a bookmark link.\n",
    "\n",
    "##5. Text Editor\n",
    "A multilingual text editor is added with highlighting for many programming and scripting languages.\n",
    "\n",
    "##6. Static File Server\n",
    "You can serve static files using http://url:port/files/%FILE_PATH% like http://0.0.0.0:8888/files/myproject/README.html\n",
    "\n",
    "##7. Build-it Terminal\n",
    "Thanks for making it white on black."
   ]
  }
 ],
 "metadata": {
  "kernelspec": {
   "display_name": "Python 3",
   "language": "python",
   "name": "python3"
  },
  "language_info": {
   "codemirror_mode": {
    "name": "ipython",
    "version": 3
   },
   "file_extension": ".py",
   "mimetype": "text/x-python",
   "name": "python",
   "nbconvert_exporter": "python",
   "pygments_lexer": "ipython3",
   "version": "3.4.0"
  }
 },
 "nbformat": 4,
 "nbformat_minor": 0
}
